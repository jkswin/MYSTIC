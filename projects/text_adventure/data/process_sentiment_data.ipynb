{
 "cells": [
  {
   "attachments": {},
   "cell_type": "markdown",
   "metadata": {},
   "source": [
    "# Rudimentary Training Dataset Creation"
   ]
  },
  {
   "cell_type": "code",
   "execution_count": 43,
   "metadata": {},
   "outputs": [],
   "source": [
    "import pandas as pd\n",
    "import json \n",
    "import langid\n",
    "import seaborn as sns\n",
    "\n",
    "data_path = \"projects/text_adventure/data/\"\n",
    "files = [\"arceus_reviews.csv\", \"animal_crossing_user_reviews.csv\"]"
   ]
  },
  {
   "attachments": {},
   "cell_type": "markdown",
   "metadata": {},
   "source": [
    "**Goal:** Come up with a Score/10 -> Sentiment Score mapping\n",
    "\n",
    "As a proxy-sentiment score I take review datasets and treat 'rating' as a measure of sentiment."
   ]
  },
  {
   "attachments": {},
   "cell_type": "markdown",
   "metadata": {},
   "source": [
    "## Legends Arceus Reviews"
   ]
  },
  {
   "cell_type": "code",
   "execution_count": 44,
   "metadata": {},
   "outputs": [
    {
     "data": {
      "text/html": [
       "<div>\n",
       "<style scoped>\n",
       "    .dataframe tbody tr th:only-of-type {\n",
       "        vertical-align: middle;\n",
       "    }\n",
       "\n",
       "    .dataframe tbody tr th {\n",
       "        vertical-align: top;\n",
       "    }\n",
       "\n",
       "    .dataframe thead th {\n",
       "        text-align: right;\n",
       "    }\n",
       "</style>\n",
       "<table border=\"1\" class=\"dataframe\">\n",
       "  <thead>\n",
       "    <tr style=\"text-align: right;\">\n",
       "      <th></th>\n",
       "      <th>review</th>\n",
       "      <th>date</th>\n",
       "      <th>score</th>\n",
       "      <th>helpful</th>\n",
       "      <th>number_of_reviews</th>\n",
       "      <th>number_of_ratings</th>\n",
       "      <th>average_user_score</th>\n",
       "    </tr>\n",
       "  </thead>\n",
       "  <tbody>\n",
       "    <tr>\n",
       "      <th>0</th>\n",
       "      <td>A fun reinvention of the Pokémon formula, hope...</td>\n",
       "      <td>Jan 29, 2022</td>\n",
       "      <td>10</td>\n",
       "      <td>49 of 62 users found this helpful</td>\n",
       "      <td>2 Reviews</td>\n",
       "      <td>2 Ratings</td>\n",
       "      <td>0.0</td>\n",
       "    </tr>\n",
       "    <tr>\n",
       "      <th>1</th>\n",
       "      <td>A fun, challenging (at times), Pokemon game wi...</td>\n",
       "      <td>Jan 30, 2022</td>\n",
       "      <td>10</td>\n",
       "      <td>52 of 72 users found this helpful</td>\n",
       "      <td>60 Reviews</td>\n",
       "      <td>111 Ratings</td>\n",
       "      <td>5.8</td>\n",
       "    </tr>\n",
       "    <tr>\n",
       "      <th>2</th>\n",
       "      <td>El juego más infravalorado de la saga y posibl...</td>\n",
       "      <td>Jan 29, 2022</td>\n",
       "      <td>10</td>\n",
       "      <td>48 of 62 users found this helpful</td>\n",
       "      <td>8 Reviews</td>\n",
       "      <td>12 Ratings</td>\n",
       "      <td>7.2</td>\n",
       "    </tr>\n",
       "    <tr>\n",
       "      <th>3</th>\n",
       "      <td>Best pokemon game of all time! New pokemon, ne...</td>\n",
       "      <td>Jan 30, 2022</td>\n",
       "      <td>10</td>\n",
       "      <td>28 of 35 users found this helpful</td>\n",
       "      <td>1 Review</td>\n",
       "      <td>4 Ratings</td>\n",
       "      <td>5.0</td>\n",
       "    </tr>\n",
       "    <tr>\n",
       "      <th>4</th>\n",
       "      <td>One outstanding experience, that is certain. I...</td>\n",
       "      <td>Feb 3, 2022</td>\n",
       "      <td>10</td>\n",
       "      <td>4 of 8 users found this helpful</td>\n",
       "      <td>1 Review</td>\n",
       "      <td>14 Ratings</td>\n",
       "      <td>9.0</td>\n",
       "    </tr>\n",
       "  </tbody>\n",
       "</table>\n",
       "</div>"
      ],
      "text/plain": [
       "                                              review          date  score  \\\n",
       "0  A fun reinvention of the Pokémon formula, hope...  Jan 29, 2022     10   \n",
       "1  A fun, challenging (at times), Pokemon game wi...  Jan 30, 2022     10   \n",
       "2  El juego más infravalorado de la saga y posibl...  Jan 29, 2022     10   \n",
       "3  Best pokemon game of all time! New pokemon, ne...  Jan 30, 2022     10   \n",
       "4  One outstanding experience, that is certain. I...   Feb 3, 2022     10   \n",
       "\n",
       "                             helpful number_of_reviews number_of_ratings  \\\n",
       "0  49 of 62 users found this helpful         2 Reviews         2 Ratings   \n",
       "1  52 of 72 users found this helpful        60 Reviews       111 Ratings   \n",
       "2  48 of 62 users found this helpful         8 Reviews        12 Ratings   \n",
       "3  28 of 35 users found this helpful          1 Review         4 Ratings   \n",
       "4    4 of 8 users found this helpful          1 Review        14 Ratings   \n",
       "\n",
       "   average_user_score  \n",
       "0                 0.0  \n",
       "1                 5.8  \n",
       "2                 7.2  \n",
       "3                 5.0  \n",
       "4                 9.0  "
      ]
     },
     "execution_count": 44,
     "metadata": {},
     "output_type": "execute_result"
    }
   ],
   "source": [
    "arc_df = pd.read_csv(files[0])\n",
    "arc_df.head()"
   ]
  },
  {
   "cell_type": "code",
   "execution_count": 45,
   "metadata": {},
   "outputs": [],
   "source": [
    "# drop to only necessary cols\n",
    "arc_df = arc_df[[\"review\", \"score\", \"number_of_reviews\", \"number_of_ratings\", \"average_user_score\"]]"
   ]
  },
  {
   "cell_type": "code",
   "execution_count": 46,
   "metadata": {},
   "outputs": [],
   "source": [
    "# convert review counts to integers\n",
    "def rev_count_to_int(a):\n",
    "    return int(a.lower().replace(\"reviews\", \"\").replace(\"review\", \"\"))\n",
    "\n",
    "def rat_count_to_int(a):\n",
    "    return int(a.lower().replace(\"ratings\", \"\").replace(\"rating\", \"\"))\n",
    "\n",
    "arc_df[\"number_of_reviews\"] = arc_df[\"number_of_reviews\"].apply(rev_count_to_int)\n",
    "arc_df[\"number_of_ratings\"] = arc_df[\"number_of_ratings\"].apply(rat_count_to_int)"
   ]
  },
  {
   "cell_type": "code",
   "execution_count": 47,
   "metadata": {},
   "outputs": [
    {
     "data": {
      "text/plain": [
       "(1067, 5)"
      ]
     },
     "execution_count": 47,
     "metadata": {},
     "output_type": "execute_result"
    }
   ],
   "source": [
    "# drop any nans\n",
    "arc_df.dropna(inplace=True)\n",
    "arc_df.shape"
   ]
  },
  {
   "cell_type": "code",
   "execution_count": 48,
   "metadata": {},
   "outputs": [
    {
     "data": {
      "text/plain": [
       "(833, 5)"
      ]
     },
     "execution_count": 48,
     "metadata": {},
     "output_type": "execute_result"
    }
   ],
   "source": [
    "# filter to only english\n",
    "def is_en(a):\n",
    "    return langid.classify(a)[0]\n",
    "\n",
    "arc_df = arc_df[arc_df[\"review\"].apply(is_en) == \"en\"]\n",
    "arc_df.shape"
   ]
  },
  {
   "cell_type": "code",
   "execution_count": 49,
   "metadata": {},
   "outputs": [
    {
     "data": {
      "text/html": [
       "<div>\n",
       "<style scoped>\n",
       "    .dataframe tbody tr th:only-of-type {\n",
       "        vertical-align: middle;\n",
       "    }\n",
       "\n",
       "    .dataframe tbody tr th {\n",
       "        vertical-align: top;\n",
       "    }\n",
       "\n",
       "    .dataframe thead th {\n",
       "        text-align: right;\n",
       "    }\n",
       "</style>\n",
       "<table border=\"1\" class=\"dataframe\">\n",
       "  <thead>\n",
       "    <tr style=\"text-align: right;\">\n",
       "      <th></th>\n",
       "      <th>score</th>\n",
       "      <th>number_of_reviews</th>\n",
       "      <th>number_of_ratings</th>\n",
       "      <th>average_user_score</th>\n",
       "    </tr>\n",
       "  </thead>\n",
       "  <tbody>\n",
       "    <tr>\n",
       "      <th>count</th>\n",
       "      <td>833.000000</td>\n",
       "      <td>833.000000</td>\n",
       "      <td>833.000000</td>\n",
       "      <td>833.000000</td>\n",
       "    </tr>\n",
       "    <tr>\n",
       "      <th>mean</th>\n",
       "      <td>7.462185</td>\n",
       "      <td>8.632653</td>\n",
       "      <td>12.727491</td>\n",
       "      <td>2.364226</td>\n",
       "    </tr>\n",
       "    <tr>\n",
       "      <th>std</th>\n",
       "      <td>3.225324</td>\n",
       "      <td>65.368497</td>\n",
       "      <td>70.511755</td>\n",
       "      <td>3.573869</td>\n",
       "    </tr>\n",
       "    <tr>\n",
       "      <th>min</th>\n",
       "      <td>0.000000</td>\n",
       "      <td>1.000000</td>\n",
       "      <td>1.000000</td>\n",
       "      <td>0.000000</td>\n",
       "    </tr>\n",
       "    <tr>\n",
       "      <th>25%</th>\n",
       "      <td>6.000000</td>\n",
       "      <td>1.000000</td>\n",
       "      <td>1.000000</td>\n",
       "      <td>0.000000</td>\n",
       "    </tr>\n",
       "    <tr>\n",
       "      <th>50%</th>\n",
       "      <td>9.000000</td>\n",
       "      <td>1.000000</td>\n",
       "      <td>2.000000</td>\n",
       "      <td>0.000000</td>\n",
       "    </tr>\n",
       "    <tr>\n",
       "      <th>75%</th>\n",
       "      <td>10.000000</td>\n",
       "      <td>4.000000</td>\n",
       "      <td>6.000000</td>\n",
       "      <td>6.100000</td>\n",
       "    </tr>\n",
       "    <tr>\n",
       "      <th>max</th>\n",
       "      <td>10.000000</td>\n",
       "      <td>1779.000000</td>\n",
       "      <td>1779.000000</td>\n",
       "      <td>10.000000</td>\n",
       "    </tr>\n",
       "  </tbody>\n",
       "</table>\n",
       "</div>"
      ],
      "text/plain": [
       "            score  number_of_reviews  number_of_ratings  average_user_score\n",
       "count  833.000000         833.000000         833.000000          833.000000\n",
       "mean     7.462185           8.632653          12.727491            2.364226\n",
       "std      3.225324          65.368497          70.511755            3.573869\n",
       "min      0.000000           1.000000           1.000000            0.000000\n",
       "25%      6.000000           1.000000           1.000000            0.000000\n",
       "50%      9.000000           1.000000           2.000000            0.000000\n",
       "75%     10.000000           4.000000           6.000000            6.100000\n",
       "max     10.000000        1779.000000        1779.000000           10.000000"
      ]
     },
     "execution_count": 49,
     "metadata": {},
     "output_type": "execute_result"
    }
   ],
   "source": [
    "# looking for relationship between average user score and score\n",
    "# possible use of weighting the user's score by their average score\n",
    "arc_df.describe()"
   ]
  },
  {
   "cell_type": "code",
   "execution_count": 50,
   "metadata": {},
   "outputs": [
    {
     "data": {
      "text/plain": [
       "(827, 5)"
      ]
     },
     "execution_count": 50,
     "metadata": {},
     "output_type": "execute_result"
    }
   ],
   "source": [
    "# remove outliers by cropping n_reviews to within 2 stds of the mean\n",
    "mu = arc_df[\"number_of_reviews\"].describe()[\"mean\"]\n",
    "std = arc_df[\"number_of_reviews\"].describe()[\"std\"]\n",
    "\n",
    "arc_df = arc_df[arc_df[\"number_of_reviews\"] < (mu + (2*std))]\n",
    "arc_df.shape"
   ]
  },
  {
   "cell_type": "code",
   "execution_count": 51,
   "metadata": {},
   "outputs": [
    {
     "data": {
      "text/plain": [
       "<seaborn.axisgrid.PairGrid at 0x1aafd77f910>"
      ]
     },
     "execution_count": 51,
     "metadata": {},
     "output_type": "execute_result"
    },
    {
     "data": {
      "image/png": "[encoded data removed]",
      "text/plain": [
       "<Figure size 895.861x750 with 12 Axes>"
      ]
     },
     "metadata": {},
     "output_type": "display_data"
    }
   ],
   "source": [
    "sns.pairplot(arc_df, hue=\"number_of_reviews\")"
   ]
  },
  {
   "cell_type": "code",
   "execution_count": 52,
   "metadata": {},
   "outputs": [
    {
     "data": {
      "text/plain": [
       "<seaborn.axisgrid.PairGrid at 0x1aa80785f70>"
      ]
     },
     "execution_count": 52,
     "metadata": {},
     "output_type": "execute_result"
    },
    {
     "data": {
      "image/png": "[encoded data removed]",
      "text/plain": [
       "<Figure size 895.861x750 with 12 Axes>"
      ]
     },
     "metadata": {},
     "output_type": "display_data"
    }
   ],
   "source": [
    "# look at serial reviewers only \n",
    "sns.pairplot(arc_df[arc_df[\"number_of_reviews\" ]> 50], hue=\"number_of_reviews\")"
   ]
  },
  {
   "cell_type": "code",
   "execution_count": 53,
   "metadata": {},
   "outputs": [
    {
     "data": {
      "text/plain": [
       "count    827.000000\n",
       "mean     113.338573\n",
       "std      159.462320\n",
       "min        9.000000\n",
       "25%       27.500000\n",
       "50%       57.000000\n",
       "75%      112.000000\n",
       "max      916.000000\n",
       "Name: n_toks, dtype: float64"
      ]
     },
     "execution_count": 53,
     "metadata": {},
     "output_type": "execute_result"
    }
   ],
   "source": [
    "# look at review length\n",
    "def count_toks(r):\n",
    "    return len(r.split()) \n",
    "arc_df[\"n_toks\"] = arc_df[\"review\"].apply(count_toks)\n",
    "arc_df[\"n_toks\"].describe()"
   ]
  },
  {
   "cell_type": "code",
   "execution_count": 54,
   "metadata": {},
   "outputs": [
    {
     "data": {
      "text/plain": [
       "(618, 6)"
      ]
     },
     "execution_count": 54,
     "metadata": {},
     "output_type": "execute_result"
    }
   ],
   "source": [
    "# crop out the obscenely long reviews\n",
    "perc75 = arc_df[\"n_toks\"].describe()[\"75%\"]\n",
    "arc_df = arc_df[arc_df[\"n_toks\"] < perc75]\n",
    "arc_df.shape"
   ]
  },
  {
   "cell_type": "code",
   "execution_count": 55,
   "metadata": {},
   "outputs": [
    {
     "data": {
      "text/html": [
       "<div>\n",
       "<style scoped>\n",
       "    .dataframe tbody tr th:only-of-type {\n",
       "        vertical-align: middle;\n",
       "    }\n",
       "\n",
       "    .dataframe tbody tr th {\n",
       "        vertical-align: top;\n",
       "    }\n",
       "\n",
       "    .dataframe thead th {\n",
       "        text-align: right;\n",
       "    }\n",
       "</style>\n",
       "<table border=\"1\" class=\"dataframe\">\n",
       "  <thead>\n",
       "    <tr style=\"text-align: right;\">\n",
       "      <th></th>\n",
       "      <th>review</th>\n",
       "      <th>score</th>\n",
       "      <th>number_of_reviews</th>\n",
       "      <th>number_of_ratings</th>\n",
       "      <th>average_user_score</th>\n",
       "      <th>n_toks</th>\n",
       "    </tr>\n",
       "  </thead>\n",
       "  <tbody>\n",
       "    <tr>\n",
       "      <th>899</th>\n",
       "      <td>This game looks like a beta. It is not finishe...</td>\n",
       "      <td>3</td>\n",
       "      <td>1</td>\n",
       "      <td>1</td>\n",
       "      <td>0.0</td>\n",
       "      <td>75</td>\n",
       "    </tr>\n",
       "    <tr>\n",
       "      <th>5</th>\n",
       "      <td>Incredible game that moves the Pokemon series ...</td>\n",
       "      <td>10</td>\n",
       "      <td>5</td>\n",
       "      <td>6</td>\n",
       "      <td>8.0</td>\n",
       "      <td>44</td>\n",
       "    </tr>\n",
       "    <tr>\n",
       "      <th>356</th>\n",
       "      <td>this is a salute to all seasoned pokemon playe...</td>\n",
       "      <td>10</td>\n",
       "      <td>1</td>\n",
       "      <td>1</td>\n",
       "      <td>0.0</td>\n",
       "      <td>107</td>\n",
       "    </tr>\n",
       "    <tr>\n",
       "      <th>391</th>\n",
       "      <td>Best pokemon experience I've ever had so far, ...</td>\n",
       "      <td>9</td>\n",
       "      <td>1</td>\n",
       "      <td>1</td>\n",
       "      <td>0.0</td>\n",
       "      <td>28</td>\n",
       "    </tr>\n",
       "    <tr>\n",
       "      <th>66</th>\n",
       "      <td>Game is extremely fun. Been playing Pokemon si...</td>\n",
       "      <td>10</td>\n",
       "      <td>3</td>\n",
       "      <td>3</td>\n",
       "      <td>0.0</td>\n",
       "      <td>80</td>\n",
       "    </tr>\n",
       "    <tr>\n",
       "      <th>243</th>\n",
       "      <td>Of course that's not my true rating, but until...</td>\n",
       "      <td>10</td>\n",
       "      <td>1</td>\n",
       "      <td>1</td>\n",
       "      <td>0.0</td>\n",
       "      <td>41</td>\n",
       "    </tr>\n",
       "    <tr>\n",
       "      <th>472</th>\n",
       "      <td>Great game, very addictive and fun. Not 10 bec...</td>\n",
       "      <td>9</td>\n",
       "      <td>1</td>\n",
       "      <td>1</td>\n",
       "      <td>0.0</td>\n",
       "      <td>15</td>\n",
       "    </tr>\n",
       "    <tr>\n",
       "      <th>971</th>\n",
       "      <td>This game is repetitive, empty, and as innovat...</td>\n",
       "      <td>0</td>\n",
       "      <td>4</td>\n",
       "      <td>11</td>\n",
       "      <td>1.1</td>\n",
       "      <td>108</td>\n",
       "    </tr>\n",
       "    <tr>\n",
       "      <th>320</th>\n",
       "      <td>I don't want to write a big review, but this i...</td>\n",
       "      <td>10</td>\n",
       "      <td>1</td>\n",
       "      <td>1</td>\n",
       "      <td>0.0</td>\n",
       "      <td>81</td>\n",
       "    </tr>\n",
       "    <tr>\n",
       "      <th>454</th>\n",
       "      <td>Everybody knows that this game looks like ****...</td>\n",
       "      <td>9</td>\n",
       "      <td>5</td>\n",
       "      <td>5</td>\n",
       "      <td>8.8</td>\n",
       "      <td>23</td>\n",
       "    </tr>\n",
       "  </tbody>\n",
       "</table>\n",
       "</div>"
      ],
      "text/plain": [
       "                                                review  score  \\\n",
       "899  This game looks like a beta. It is not finishe...      3   \n",
       "5    Incredible game that moves the Pokemon series ...     10   \n",
       "356  this is a salute to all seasoned pokemon playe...     10   \n",
       "391  Best pokemon experience I've ever had so far, ...      9   \n",
       "66   Game is extremely fun. Been playing Pokemon si...     10   \n",
       "243  Of course that's not my true rating, but until...     10   \n",
       "472  Great game, very addictive and fun. Not 10 bec...      9   \n",
       "971  This game is repetitive, empty, and as innovat...      0   \n",
       "320  I don't want to write a big review, but this i...     10   \n",
       "454  Everybody knows that this game looks like ****...      9   \n",
       "\n",
       "     number_of_reviews  number_of_ratings  average_user_score  n_toks  \n",
       "899                  1                  1                 0.0      75  \n",
       "5                    5                  6                 8.0      44  \n",
       "356                  1                  1                 0.0     107  \n",
       "391                  1                  1                 0.0      28  \n",
       "66                   3                  3                 0.0      80  \n",
       "243                  1                  1                 0.0      41  \n",
       "472                  1                  1                 0.0      15  \n",
       "971                  4                 11                 1.1     108  \n",
       "320                  1                  1                 0.0      81  \n",
       "454                  5                  5                 8.8      23  "
      ]
     },
     "execution_count": 55,
     "metadata": {},
     "output_type": "execute_result"
    }
   ],
   "source": [
    "arc_df.sample(n=10)"
   ]
  },
  {
   "cell_type": "code",
   "execution_count": 56,
   "metadata": {},
   "outputs": [
    {
     "name": "stderr",
     "output_type": "stream",
     "text": [
      "C:\\Users\\Jake\\AppData\\Local\\Temp\\ipykernel_18072\\1416092664.py:2: SettingWithCopyWarning: \n",
      "A value is trying to be set on a copy of a slice from a DataFrame.\n",
      "Try using .loc[row_indexer,col_indexer] = value instead\n",
      "\n",
      "See the caveats in the documentation: https://pandas.pydata.org/pandas-docs/stable/user_guide/indexing.html#returning-a-view-versus-a-copy\n",
      "  arc_df[\"sentiment_score\"] = (arc_df[\"score\"] * 0.1)**(1/(arc_df[\"average_user_score\"]*0.1))\n"
     ]
    },
    {
     "data": {
      "text/html": [
       "<div>\n",
       "<style scoped>\n",
       "    .dataframe tbody tr th:only-of-type {\n",
       "        vertical-align: middle;\n",
       "    }\n",
       "\n",
       "    .dataframe tbody tr th {\n",
       "        vertical-align: top;\n",
       "    }\n",
       "\n",
       "    .dataframe thead th {\n",
       "        text-align: right;\n",
       "    }\n",
       "</style>\n",
       "<table border=\"1\" class=\"dataframe\">\n",
       "  <thead>\n",
       "    <tr style=\"text-align: right;\">\n",
       "      <th></th>\n",
       "      <th>review</th>\n",
       "      <th>score</th>\n",
       "      <th>number_of_reviews</th>\n",
       "      <th>number_of_ratings</th>\n",
       "      <th>average_user_score</th>\n",
       "      <th>n_toks</th>\n",
       "      <th>sentiment_score</th>\n",
       "    </tr>\n",
       "  </thead>\n",
       "  <tbody>\n",
       "    <tr>\n",
       "      <th>362</th>\n",
       "      <td>A break from standard tradition, Pokemon final...</td>\n",
       "      <td>9</td>\n",
       "      <td>13</td>\n",
       "      <td>31</td>\n",
       "      <td>7.6</td>\n",
       "      <td>36</td>\n",
       "      <td>0.870548</td>\n",
       "    </tr>\n",
       "    <tr>\n",
       "      <th>364</th>\n",
       "      <td>Starts off a little slow and the menus are a m...</td>\n",
       "      <td>9</td>\n",
       "      <td>4</td>\n",
       "      <td>4</td>\n",
       "      <td>8.3</td>\n",
       "      <td>25</td>\n",
       "      <td>0.880786</td>\n",
       "    </tr>\n",
       "    <tr>\n",
       "      <th>366</th>\n",
       "      <td>Here we have a very good game with the twist o...</td>\n",
       "      <td>9</td>\n",
       "      <td>3</td>\n",
       "      <td>4</td>\n",
       "      <td>9.5</td>\n",
       "      <td>38</td>\n",
       "      <td>0.895023</td>\n",
       "    </tr>\n",
       "    <tr>\n",
       "      <th>367</th>\n",
       "      <td>The best Pokémon game in (at least) 10 years. ...</td>\n",
       "      <td>9</td>\n",
       "      <td>1</td>\n",
       "      <td>1</td>\n",
       "      <td>0.0</td>\n",
       "      <td>23</td>\n",
       "      <td>0.000000</td>\n",
       "    </tr>\n",
       "    <tr>\n",
       "      <th>368</th>\n",
       "      <td>This game is a solid 9. Probably the best poke...</td>\n",
       "      <td>9</td>\n",
       "      <td>5</td>\n",
       "      <td>6</td>\n",
       "      <td>9.8</td>\n",
       "      <td>44</td>\n",
       "      <td>0.898067</td>\n",
       "    </tr>\n",
       "    <tr>\n",
       "      <th>...</th>\n",
       "      <td>...</td>\n",
       "      <td>...</td>\n",
       "      <td>...</td>\n",
       "      <td>...</td>\n",
       "      <td>...</td>\n",
       "      <td>...</td>\n",
       "      <td>...</td>\n",
       "    </tr>\n",
       "    <tr>\n",
       "      <th>1058</th>\n",
       "      <td>This game have bad graphics, bad design, borin...</td>\n",
       "      <td>0</td>\n",
       "      <td>6</td>\n",
       "      <td>6</td>\n",
       "      <td>1.7</td>\n",
       "      <td>64</td>\n",
       "      <td>0.000000</td>\n",
       "    </tr>\n",
       "    <tr>\n",
       "      <th>1059</th>\n",
       "      <td>Quite the different Pokemon game from the main...</td>\n",
       "      <td>0</td>\n",
       "      <td>1</td>\n",
       "      <td>1</td>\n",
       "      <td>0.0</td>\n",
       "      <td>32</td>\n",
       "      <td>0.000000</td>\n",
       "    </tr>\n",
       "    <tr>\n",
       "      <th>1062</th>\n",
       "      <td>Final boss is too cheap, that is not fail at a...</td>\n",
       "      <td>0</td>\n",
       "      <td>1</td>\n",
       "      <td>1</td>\n",
       "      <td>0.0</td>\n",
       "      <td>17</td>\n",
       "      <td>0.000000</td>\n",
       "    </tr>\n",
       "    <tr>\n",
       "      <th>1063</th>\n",
       "      <td>Boss fights aren’t thought out properly. Too m...</td>\n",
       "      <td>0</td>\n",
       "      <td>1</td>\n",
       "      <td>1</td>\n",
       "      <td>0.0</td>\n",
       "      <td>12</td>\n",
       "      <td>0.000000</td>\n",
       "    </tr>\n",
       "    <tr>\n",
       "      <th>1064</th>\n",
       "      <td>not open world and kinda boring. graphics are ...</td>\n",
       "      <td>0</td>\n",
       "      <td>3</td>\n",
       "      <td>3</td>\n",
       "      <td>0.0</td>\n",
       "      <td>20</td>\n",
       "      <td>0.000000</td>\n",
       "    </tr>\n",
       "  </tbody>\n",
       "</table>\n",
       "<p>375 rows × 7 columns</p>\n",
       "</div>"
      ],
      "text/plain": [
       "                                                 review  score  \\\n",
       "362   A break from standard tradition, Pokemon final...      9   \n",
       "364   Starts off a little slow and the menus are a m...      9   \n",
       "366   Here we have a very good game with the twist o...      9   \n",
       "367   The best Pokémon game in (at least) 10 years. ...      9   \n",
       "368   This game is a solid 9. Probably the best poke...      9   \n",
       "...                                                 ...    ...   \n",
       "1058  This game have bad graphics, bad design, borin...      0   \n",
       "1059  Quite the different Pokemon game from the main...      0   \n",
       "1062  Final boss is too cheap, that is not fail at a...      0   \n",
       "1063  Boss fights aren’t thought out properly. Too m...      0   \n",
       "1064  not open world and kinda boring. graphics are ...      0   \n",
       "\n",
       "      number_of_reviews  number_of_ratings  average_user_score  n_toks  \\\n",
       "362                  13                 31                 7.6      36   \n",
       "364                   4                  4                 8.3      25   \n",
       "366                   3                  4                 9.5      38   \n",
       "367                   1                  1                 0.0      23   \n",
       "368                   5                  6                 9.8      44   \n",
       "...                 ...                ...                 ...     ...   \n",
       "1058                  6                  6                 1.7      64   \n",
       "1059                  1                  1                 0.0      32   \n",
       "1062                  1                  1                 0.0      17   \n",
       "1063                  1                  1                 0.0      12   \n",
       "1064                  3                  3                 0.0      20   \n",
       "\n",
       "      sentiment_score  \n",
       "362          0.870548  \n",
       "364          0.880786  \n",
       "366          0.895023  \n",
       "367          0.000000  \n",
       "368          0.898067  \n",
       "...               ...  \n",
       "1058         0.000000  \n",
       "1059         0.000000  \n",
       "1062         0.000000  \n",
       "1063         0.000000  \n",
       "1064         0.000000  \n",
       "\n",
       "[375 rows x 7 columns]"
      ]
     },
     "execution_count": 56,
     "metadata": {},
     "output_type": "execute_result"
    }
   ],
   "source": [
    "# apply simple conversion: if we know the user often scores pretty high, scale their score back slightly\n",
    "arc_df[\"sentiment_score\"] = (arc_df[\"score\"] * 0.1)**(1/(arc_df[\"average_user_score\"]*0.1))\n",
    "arc_df[arc_df[\"score\"] != 10]"
   ]
  },
  {
   "cell_type": "code",
   "execution_count": 57,
   "metadata": {},
   "outputs": [
    {
     "data": {
      "text/plain": [
       "count    618.000000\n",
       "mean       0.499279\n",
       "std        0.473528\n",
       "min        0.000000\n",
       "25%        0.000000\n",
       "50%        0.621172\n",
       "75%        1.000000\n",
       "max        1.000000\n",
       "Name: sentiment_score, dtype: float64"
      ]
     },
     "execution_count": 57,
     "metadata": {},
     "output_type": "execute_result"
    }
   ],
   "source": [
    "arc_df[\"sentiment_score\"].describe()"
   ]
  },
  {
   "cell_type": "code",
   "execution_count": 58,
   "metadata": {},
   "outputs": [
    {
     "data": {
      "text/plain": [
       "<AxesSubplot:ylabel='Density'>"
      ]
     },
     "execution_count": 58,
     "metadata": {},
     "output_type": "execute_result"
    },
    {
     "data": {
      "image/png": "[encoded data removed]",
      "text/plain": [
       "<Figure size 640x480 with 1 Axes>"
      ]
     },
     "metadata": {},
     "output_type": "display_data"
    }
   ],
   "source": [
    "arc_df[\"sentiment_score\"].plot(kind=\"density\", xlim=(0,1))"
   ]
  },
  {
   "cell_type": "code",
   "execution_count": 59,
   "metadata": {},
   "outputs": [
    {
     "name": "stdout",
     "output_type": "stream",
     "text": [
      "(618, 7)\n",
      "29416\n"
     ]
    }
   ],
   "source": [
    "print(arc_df.shape)\n",
    "print(arc_df[\"n_toks\"].sum())"
   ]
  },
  {
   "cell_type": "code",
   "execution_count": 60,
   "metadata": {},
   "outputs": [],
   "source": [
    "outpath = \"proccessed_arceus_reviews.json\"\n",
    "arc_df[[\"review\", \"sentiment_score\"]].to_json(outpath, orient=\"records\")"
   ]
  },
  {
   "attachments": {},
   "cell_type": "markdown",
   "metadata": {},
   "source": [
    "We now have 618 reviews, consisting of ~30,000 words with a range of sentiment scores. New reviewers scores are taken at face value whereas serial reviewers scores are scaled with respect to how they usually score games."
   ]
  },
  {
   "attachments": {},
   "cell_type": "markdown",
   "metadata": {},
   "source": [
    "## Animal Crossing Reviews"
   ]
  },
  {
   "cell_type": "code",
   "execution_count": 61,
   "metadata": {},
   "outputs": [
    {
     "data": {
      "text/html": [
       "<div>\n",
       "<style scoped>\n",
       "    .dataframe tbody tr th:only-of-type {\n",
       "        vertical-align: middle;\n",
       "    }\n",
       "\n",
       "    .dataframe tbody tr th {\n",
       "        vertical-align: top;\n",
       "    }\n",
       "\n",
       "    .dataframe thead th {\n",
       "        text-align: right;\n",
       "    }\n",
       "</style>\n",
       "<table border=\"1\" class=\"dataframe\">\n",
       "  <thead>\n",
       "    <tr style=\"text-align: right;\">\n",
       "      <th></th>\n",
       "      <th>grade</th>\n",
       "      <th>user_name</th>\n",
       "      <th>text</th>\n",
       "      <th>date</th>\n",
       "    </tr>\n",
       "  </thead>\n",
       "  <tbody>\n",
       "    <tr>\n",
       "      <th>0</th>\n",
       "      <td>4</td>\n",
       "      <td>mds27272</td>\n",
       "      <td>My gf started playing before me. No option to ...</td>\n",
       "      <td>2020-03-20</td>\n",
       "    </tr>\n",
       "    <tr>\n",
       "      <th>1</th>\n",
       "      <td>5</td>\n",
       "      <td>lolo2178</td>\n",
       "      <td>While the game itself is great, really relaxin...</td>\n",
       "      <td>2020-03-20</td>\n",
       "    </tr>\n",
       "    <tr>\n",
       "      <th>2</th>\n",
       "      <td>0</td>\n",
       "      <td>Roachant</td>\n",
       "      <td>My wife and I were looking forward to playing ...</td>\n",
       "      <td>2020-03-20</td>\n",
       "    </tr>\n",
       "    <tr>\n",
       "      <th>3</th>\n",
       "      <td>0</td>\n",
       "      <td>Houndf</td>\n",
       "      <td>We need equal values and opportunities for all...</td>\n",
       "      <td>2020-03-20</td>\n",
       "    </tr>\n",
       "    <tr>\n",
       "      <th>4</th>\n",
       "      <td>0</td>\n",
       "      <td>ProfessorFox</td>\n",
       "      <td>BEWARE!  If you have multiple people in your h...</td>\n",
       "      <td>2020-03-20</td>\n",
       "    </tr>\n",
       "  </tbody>\n",
       "</table>\n",
       "</div>"
      ],
      "text/plain": [
       "   grade     user_name                                               text  \\\n",
       "0      4      mds27272  My gf started playing before me. No option to ...   \n",
       "1      5      lolo2178  While the game itself is great, really relaxin...   \n",
       "2      0      Roachant  My wife and I were looking forward to playing ...   \n",
       "3      0        Houndf  We need equal values and opportunities for all...   \n",
       "4      0  ProfessorFox  BEWARE!  If you have multiple people in your h...   \n",
       "\n",
       "         date  \n",
       "0  2020-03-20  \n",
       "1  2020-03-20  \n",
       "2  2020-03-20  \n",
       "3  2020-03-20  \n",
       "4  2020-03-20  "
      ]
     },
     "execution_count": 61,
     "metadata": {},
     "output_type": "execute_result"
    }
   ],
   "source": [
    "cross_df = pd.read_csv(files[1])\n",
    "cross_df.head()"
   ]
  },
  {
   "cell_type": "code",
   "execution_count": 62,
   "metadata": {},
   "outputs": [
    {
     "data": {
      "text/html": [
       "<div>\n",
       "<style scoped>\n",
       "    .dataframe tbody tr th:only-of-type {\n",
       "        vertical-align: middle;\n",
       "    }\n",
       "\n",
       "    .dataframe tbody tr th {\n",
       "        vertical-align: top;\n",
       "    }\n",
       "\n",
       "    .dataframe thead th {\n",
       "        text-align: right;\n",
       "    }\n",
       "</style>\n",
       "<table border=\"1\" class=\"dataframe\">\n",
       "  <thead>\n",
       "    <tr style=\"text-align: right;\">\n",
       "      <th></th>\n",
       "      <th>grade</th>\n",
       "      <th>text</th>\n",
       "      <th>sentiment_score</th>\n",
       "    </tr>\n",
       "  </thead>\n",
       "  <tbody>\n",
       "    <tr>\n",
       "      <th>0</th>\n",
       "      <td>4</td>\n",
       "      <td>My gf started playing before me. No option to ...</td>\n",
       "      <td>0.4</td>\n",
       "    </tr>\n",
       "    <tr>\n",
       "      <th>1</th>\n",
       "      <td>5</td>\n",
       "      <td>While the game itself is great, really relaxin...</td>\n",
       "      <td>0.5</td>\n",
       "    </tr>\n",
       "    <tr>\n",
       "      <th>2</th>\n",
       "      <td>0</td>\n",
       "      <td>My wife and I were looking forward to playing ...</td>\n",
       "      <td>0.0</td>\n",
       "    </tr>\n",
       "    <tr>\n",
       "      <th>3</th>\n",
       "      <td>0</td>\n",
       "      <td>We need equal values and opportunities for all...</td>\n",
       "      <td>0.0</td>\n",
       "    </tr>\n",
       "    <tr>\n",
       "      <th>4</th>\n",
       "      <td>0</td>\n",
       "      <td>BEWARE!  If you have multiple people in your h...</td>\n",
       "      <td>0.0</td>\n",
       "    </tr>\n",
       "    <tr>\n",
       "      <th>...</th>\n",
       "      <td>...</td>\n",
       "      <td>...</td>\n",
       "      <td>...</td>\n",
       "    </tr>\n",
       "    <tr>\n",
       "      <th>2994</th>\n",
       "      <td>1</td>\n",
       "      <td>1 Island for console limitation.I cannot play ...</td>\n",
       "      <td>0.1</td>\n",
       "    </tr>\n",
       "    <tr>\n",
       "      <th>2995</th>\n",
       "      <td>1</td>\n",
       "      <td>Per giocare con figli o fidanzate, mogli o per...</td>\n",
       "      <td>0.1</td>\n",
       "    </tr>\n",
       "    <tr>\n",
       "      <th>2996</th>\n",
       "      <td>0</td>\n",
       "      <td>One island per console is a pathetic limitatio...</td>\n",
       "      <td>0.0</td>\n",
       "    </tr>\n",
       "    <tr>\n",
       "      <th>2997</th>\n",
       "      <td>2</td>\n",
       "      <td>Even though it seems like a great game with ma...</td>\n",
       "      <td>0.2</td>\n",
       "    </tr>\n",
       "    <tr>\n",
       "      <th>2998</th>\n",
       "      <td>4</td>\n",
       "      <td>Game is fantastic.Nintendo deciding that you c...</td>\n",
       "      <td>0.4</td>\n",
       "    </tr>\n",
       "  </tbody>\n",
       "</table>\n",
       "<p>2999 rows × 3 columns</p>\n",
       "</div>"
      ],
      "text/plain": [
       "      grade                                               text  \\\n",
       "0         4  My gf started playing before me. No option to ...   \n",
       "1         5  While the game itself is great, really relaxin...   \n",
       "2         0  My wife and I were looking forward to playing ...   \n",
       "3         0  We need equal values and opportunities for all...   \n",
       "4         0  BEWARE!  If you have multiple people in your h...   \n",
       "...     ...                                                ...   \n",
       "2994      1  1 Island for console limitation.I cannot play ...   \n",
       "2995      1  Per giocare con figli o fidanzate, mogli o per...   \n",
       "2996      0  One island per console is a pathetic limitatio...   \n",
       "2997      2  Even though it seems like a great game with ma...   \n",
       "2998      4  Game is fantastic.Nintendo deciding that you c...   \n",
       "\n",
       "      sentiment_score  \n",
       "0                 0.4  \n",
       "1                 0.5  \n",
       "2                 0.0  \n",
       "3                 0.0  \n",
       "4                 0.0  \n",
       "...               ...  \n",
       "2994              0.1  \n",
       "2995              0.1  \n",
       "2996              0.0  \n",
       "2997              0.2  \n",
       "2998              0.4  \n",
       "\n",
       "[2999 rows x 3 columns]"
      ]
     },
     "execution_count": 62,
     "metadata": {},
     "output_type": "execute_result"
    }
   ],
   "source": [
    "cross_df = cross_df[[\"grade\", \"text\"]]\n",
    "cross_df[\"sentiment_score\"] = cross_df[\"grade\"] * 0.1\n",
    "cross_df"
   ]
  },
  {
   "cell_type": "code",
   "execution_count": 63,
   "metadata": {},
   "outputs": [],
   "source": [
    "cross_df.dropna(inplace=True)"
   ]
  },
  {
   "cell_type": "code",
   "execution_count": 64,
   "metadata": {},
   "outputs": [
    {
     "data": {
      "text/html": [
       "<div>\n",
       "<style scoped>\n",
       "    .dataframe tbody tr th:only-of-type {\n",
       "        vertical-align: middle;\n",
       "    }\n",
       "\n",
       "    .dataframe tbody tr th {\n",
       "        vertical-align: top;\n",
       "    }\n",
       "\n",
       "    .dataframe thead th {\n",
       "        text-align: right;\n",
       "    }\n",
       "</style>\n",
       "<table border=\"1\" class=\"dataframe\">\n",
       "  <thead>\n",
       "    <tr style=\"text-align: right;\">\n",
       "      <th></th>\n",
       "      <th>grade</th>\n",
       "      <th>sentiment_score</th>\n",
       "    </tr>\n",
       "  </thead>\n",
       "  <tbody>\n",
       "    <tr>\n",
       "      <th>count</th>\n",
       "      <td>2999.000000</td>\n",
       "      <td>2999.000000</td>\n",
       "    </tr>\n",
       "    <tr>\n",
       "      <th>mean</th>\n",
       "      <td>4.217406</td>\n",
       "      <td>0.421741</td>\n",
       "    </tr>\n",
       "    <tr>\n",
       "      <th>std</th>\n",
       "      <td>4.349486</td>\n",
       "      <td>0.434949</td>\n",
       "    </tr>\n",
       "    <tr>\n",
       "      <th>min</th>\n",
       "      <td>0.000000</td>\n",
       "      <td>0.000000</td>\n",
       "    </tr>\n",
       "    <tr>\n",
       "      <th>25%</th>\n",
       "      <td>0.000000</td>\n",
       "      <td>0.000000</td>\n",
       "    </tr>\n",
       "    <tr>\n",
       "      <th>50%</th>\n",
       "      <td>2.000000</td>\n",
       "      <td>0.200000</td>\n",
       "    </tr>\n",
       "    <tr>\n",
       "      <th>75%</th>\n",
       "      <td>10.000000</td>\n",
       "      <td>1.000000</td>\n",
       "    </tr>\n",
       "    <tr>\n",
       "      <th>max</th>\n",
       "      <td>10.000000</td>\n",
       "      <td>1.000000</td>\n",
       "    </tr>\n",
       "  </tbody>\n",
       "</table>\n",
       "</div>"
      ],
      "text/plain": [
       "             grade  sentiment_score\n",
       "count  2999.000000      2999.000000\n",
       "mean      4.217406         0.421741\n",
       "std       4.349486         0.434949\n",
       "min       0.000000         0.000000\n",
       "25%       0.000000         0.000000\n",
       "50%       2.000000         0.200000\n",
       "75%      10.000000         1.000000\n",
       "max      10.000000         1.000000"
      ]
     },
     "execution_count": 64,
     "metadata": {},
     "output_type": "execute_result"
    }
   ],
   "source": [
    "cross_df.describe()"
   ]
  },
  {
   "cell_type": "code",
   "execution_count": 65,
   "metadata": {},
   "outputs": [
    {
     "data": {
      "text/plain": [
       "(2827, 3)"
      ]
     },
     "execution_count": 65,
     "metadata": {},
     "output_type": "execute_result"
    }
   ],
   "source": [
    "# filter to eng\n",
    "cross_df = cross_df[cross_df[\"text\"].apply(is_en) == \"en\"]\n",
    "cross_df.shape"
   ]
  },
  {
   "cell_type": "code",
   "execution_count": 66,
   "metadata": {},
   "outputs": [
    {
     "name": "stderr",
     "output_type": "stream",
     "text": [
      "C:\\Users\\Jake\\AppData\\Local\\Temp\\ipykernel_18072\\2873999017.py:1: SettingWithCopyWarning: \n",
      "A value is trying to be set on a copy of a slice from a DataFrame.\n",
      "Try using .loc[row_indexer,col_indexer] = value instead\n",
      "\n",
      "See the caveats in the documentation: https://pandas.pydata.org/pandas-docs/stable/user_guide/indexing.html#returning-a-view-versus-a-copy\n",
      "  cross_df[\"n_toks\"] = cross_df[\"text\"].apply(count_toks)\n"
     ]
    },
    {
     "data": {
      "text/plain": [
       "count    2827.000000\n",
       "mean      124.887867\n",
       "std       131.062012\n",
       "min         3.000000\n",
       "25%        32.000000\n",
       "50%        61.000000\n",
       "75%       185.000000\n",
       "max       995.000000\n",
       "Name: n_toks, dtype: float64"
      ]
     },
     "execution_count": 66,
     "metadata": {},
     "output_type": "execute_result"
    }
   ],
   "source": [
    "cross_df[\"n_toks\"] = cross_df[\"text\"].apply(count_toks)\n",
    "cross_df[\"n_toks\"].describe()"
   ]
  },
  {
   "cell_type": "code",
   "execution_count": 67,
   "metadata": {},
   "outputs": [
    {
     "data": {
      "text/plain": [
       "(2116, 4)"
      ]
     },
     "execution_count": 67,
     "metadata": {},
     "output_type": "execute_result"
    }
   ],
   "source": [
    "# crop out the obscenely long reviews\n",
    "perc75 = cross_df[\"n_toks\"].describe()[\"75%\"]\n",
    "cross_df = cross_df[cross_df[\"n_toks\"] < perc75]\n",
    "cross_df.shape"
   ]
  },
  {
   "cell_type": "code",
   "execution_count": 68,
   "metadata": {},
   "outputs": [
    {
     "data": {
      "text/plain": [
       "count    2116.000000\n",
       "mean        0.414367\n",
       "std         0.444915\n",
       "min         0.000000\n",
       "25%         0.000000\n",
       "50%         0.100000\n",
       "75%         1.000000\n",
       "max         1.000000\n",
       "Name: sentiment_score, dtype: float64"
      ]
     },
     "execution_count": 68,
     "metadata": {},
     "output_type": "execute_result"
    }
   ],
   "source": [
    "# we don't have anything other than the star score here so let's look at the numbers\n",
    "cross_df[\"sentiment_score\"].describe()"
   ]
  },
  {
   "cell_type": "code",
   "execution_count": 69,
   "metadata": {},
   "outputs": [
    {
     "data": {
      "text/plain": [
       "<AxesSubplot:ylabel='Density'>"
      ]
     },
     "execution_count": 69,
     "metadata": {},
     "output_type": "execute_result"
    },
    {
     "data": {
      "image/png": "[encoded data removed]",
      "text/plain": [
       "<Figure size 640x480 with 1 Axes>"
      ]
     },
     "metadata": {},
     "output_type": "display_data"
    }
   ],
   "source": [
    "cross_df[\"sentiment_score\"].plot(kind=\"density\", xlim=(0,1))"
   ]
  },
  {
   "attachments": {},
   "cell_type": "markdown",
   "metadata": {},
   "source": [
    "Not too dissimilar from the arceus reviews, but a little more skewed towards negative."
   ]
  },
  {
   "cell_type": "code",
   "execution_count": 70,
   "metadata": {},
   "outputs": [
    {
     "name": "stdout",
     "output_type": "stream",
     "text": [
      "(2116, 4)\n",
      "140458\n"
     ]
    }
   ],
   "source": [
    "print(cross_df.shape)\n",
    "print(cross_df[\"n_toks\"].sum())"
   ]
  },
  {
   "cell_type": "code",
   "execution_count": 71,
   "metadata": {},
   "outputs": [
    {
     "data": {
      "text/html": [
       "<div>\n",
       "<style scoped>\n",
       "    .dataframe tbody tr th:only-of-type {\n",
       "        vertical-align: middle;\n",
       "    }\n",
       "\n",
       "    .dataframe tbody tr th {\n",
       "        vertical-align: top;\n",
       "    }\n",
       "\n",
       "    .dataframe thead th {\n",
       "        text-align: right;\n",
       "    }\n",
       "</style>\n",
       "<table border=\"1\" class=\"dataframe\">\n",
       "  <thead>\n",
       "    <tr style=\"text-align: right;\">\n",
       "      <th></th>\n",
       "      <th>grade</th>\n",
       "      <th>review</th>\n",
       "      <th>sentiment_score</th>\n",
       "      <th>n_toks</th>\n",
       "    </tr>\n",
       "  </thead>\n",
       "  <tbody>\n",
       "    <tr>\n",
       "      <th>0</th>\n",
       "      <td>4</td>\n",
       "      <td>My gf started playing before me. No option to ...</td>\n",
       "      <td>0.4</td>\n",
       "      <td>70</td>\n",
       "    </tr>\n",
       "    <tr>\n",
       "      <th>1</th>\n",
       "      <td>5</td>\n",
       "      <td>While the game itself is great, really relaxin...</td>\n",
       "      <td>0.5</td>\n",
       "      <td>167</td>\n",
       "    </tr>\n",
       "    <tr>\n",
       "      <th>3</th>\n",
       "      <td>0</td>\n",
       "      <td>We need equal values and opportunities for all...</td>\n",
       "      <td>0.0</td>\n",
       "      <td>56</td>\n",
       "    </tr>\n",
       "    <tr>\n",
       "      <th>4</th>\n",
       "      <td>0</td>\n",
       "      <td>BEWARE!  If you have multiple people in your h...</td>\n",
       "      <td>0.0</td>\n",
       "      <td>183</td>\n",
       "    </tr>\n",
       "    <tr>\n",
       "      <th>5</th>\n",
       "      <td>0</td>\n",
       "      <td>The limitation of one island per Switch (not p...</td>\n",
       "      <td>0.0</td>\n",
       "      <td>178</td>\n",
       "    </tr>\n",
       "  </tbody>\n",
       "</table>\n",
       "</div>"
      ],
      "text/plain": [
       "   grade                                             review  sentiment_score  \\\n",
       "0      4  My gf started playing before me. No option to ...              0.4   \n",
       "1      5  While the game itself is great, really relaxin...              0.5   \n",
       "3      0  We need equal values and opportunities for all...              0.0   \n",
       "4      0  BEWARE!  If you have multiple people in your h...              0.0   \n",
       "5      0  The limitation of one island per Switch (not p...              0.0   \n",
       "\n",
       "   n_toks  \n",
       "0      70  \n",
       "1     167  \n",
       "3      56  \n",
       "4     183  \n",
       "5     178  "
      ]
     },
     "execution_count": 71,
     "metadata": {},
     "output_type": "execute_result"
    }
   ],
   "source": [
    "#rename the text column to review to be in line with the other dataset\n",
    "cross_df.rename({\"text\":\"review\"}, inplace=True, axis=1)\n",
    "cross_df.head()"
   ]
  },
  {
   "cell_type": "code",
   "execution_count": 72,
   "metadata": {},
   "outputs": [],
   "source": [
    "outpath = \"proccessed_animal_crossing_reviews.json\"\n",
    "cross_df[[\"review\", \"sentiment_score\"]].to_json(outpath, orient=\"records\")"
   ]
  },
  {
   "attachments": {},
   "cell_type": "markdown",
   "metadata": {},
   "source": [
    "## Very Brief EDA of Composed Dataset"
   ]
  },
  {
   "cell_type": "code",
   "execution_count": 73,
   "metadata": {},
   "outputs": [
    {
     "data": {
      "image/png": "[encoded data removed]",
      "text/plain": [
       "<Figure size 640x480 with 1 Axes>"
      ]
     },
     "metadata": {},
     "output_type": "display_data"
    },
    {
     "data": {
      "image/png": "[encoded data removed]",
      "text/plain": [
       "<Figure size 640x480 with 1 Axes>"
      ]
     },
     "metadata": {},
     "output_type": "display_data"
    }
   ],
   "source": [
    "import nltk\n",
    "from nltk.tokenize import word_tokenize\n",
    "from nltk import FreqDist\n",
    "from nltk.corpus import stopwords\n",
    "from string import punctuation\n",
    "\n",
    "\n",
    "#nltk.download(\"stopwords\")\n",
    "stopwords = stopwords.words(\"english\") + list(punctuation)\n",
    "\n",
    "def flatten(l):\n",
    "    return [item for sublist in l for item in sublist]\n",
    "\n",
    "def filter(tokens):\n",
    "    return [tok.lower() for tok in tokens if tok not in stopwords]\n",
    "\n",
    "for df in [arc_df, cross_df]:\n",
    "    tokens = df[\"review\"].apply(word_tokenize).to_list()\n",
    "    tokens = filter(flatten(tokens))\n",
    "    dist = FreqDist(tokens)\n",
    "    common = FreqDist(dict(dist.most_common(n=40)))\n",
    "    common.plot()"
   ]
  },
  {
   "attachments": {},
   "cell_type": "markdown",
   "metadata": {},
   "source": [
    "Zipfian distributions as expected, but heavy bias towards certain features of the games rather than general words associated with sentiment. This corpus wouldn't make a very good general model. I'll add more genres to diversify the samples.\n",
    "\n",
    "Also, ~3000 samples isn't really enough to model language anyway."
   ]
  },
  {
   "attachments": {},
   "cell_type": "markdown",
   "metadata": {},
   "source": [
    "## Additional Data "
   ]
  },
  {
   "cell_type": "code",
   "execution_count": 74,
   "metadata": {},
   "outputs": [
    {
     "data": {
      "text/html": [
       "<div>\n",
       "<style scoped>\n",
       "    .dataframe tbody tr th:only-of-type {\n",
       "        vertical-align: middle;\n",
       "    }\n",
       "\n",
       "    .dataframe tbody tr th {\n",
       "        vertical-align: top;\n",
       "    }\n",
       "\n",
       "    .dataframe thead th {\n",
       "        text-align: right;\n",
       "    }\n",
       "</style>\n",
       "<table border=\"1\" class=\"dataframe\">\n",
       "  <thead>\n",
       "    <tr style=\"text-align: right;\">\n",
       "      <th></th>\n",
       "      <th>Id</th>\n",
       "      <th>Title</th>\n",
       "      <th>Price</th>\n",
       "      <th>User_id</th>\n",
       "      <th>profileName</th>\n",
       "      <th>review/helpfulness</th>\n",
       "      <th>review/score</th>\n",
       "      <th>review/time</th>\n",
       "      <th>review/summary</th>\n",
       "      <th>review/text</th>\n",
       "    </tr>\n",
       "  </thead>\n",
       "  <tbody>\n",
       "    <tr>\n",
       "      <th>0</th>\n",
       "      <td>1882931173</td>\n",
       "      <td>Its Only Art If Its Well Hung!</td>\n",
       "      <td>NaN</td>\n",
       "      <td>AVCGYZL8FQQTD</td>\n",
       "      <td>Jim of Oz \"jim-of-oz\"</td>\n",
       "      <td>7/7</td>\n",
       "      <td>4.0</td>\n",
       "      <td>940636800</td>\n",
       "      <td>Nice collection of Julie Strain images</td>\n",
       "      <td>This is only for Julie Strain fans. It's a col...</td>\n",
       "    </tr>\n",
       "    <tr>\n",
       "      <th>1</th>\n",
       "      <td>0826414346</td>\n",
       "      <td>Dr. Seuss: American Icon</td>\n",
       "      <td>NaN</td>\n",
       "      <td>A30TK6U7DNS82R</td>\n",
       "      <td>Kevin Killian</td>\n",
       "      <td>10/10</td>\n",
       "      <td>5.0</td>\n",
       "      <td>1095724800</td>\n",
       "      <td>Really Enjoyed It</td>\n",
       "      <td>I don't care much for Dr. Seuss but after read...</td>\n",
       "    </tr>\n",
       "    <tr>\n",
       "      <th>2</th>\n",
       "      <td>0826414346</td>\n",
       "      <td>Dr. Seuss: American Icon</td>\n",
       "      <td>NaN</td>\n",
       "      <td>A3UH4UZ4RSVO82</td>\n",
       "      <td>John Granger</td>\n",
       "      <td>10/11</td>\n",
       "      <td>5.0</td>\n",
       "      <td>1078790400</td>\n",
       "      <td>Essential for every personal and Public Library</td>\n",
       "      <td>If people become the books they read and if \"t...</td>\n",
       "    </tr>\n",
       "    <tr>\n",
       "      <th>3</th>\n",
       "      <td>0826414346</td>\n",
       "      <td>Dr. Seuss: American Icon</td>\n",
       "      <td>NaN</td>\n",
       "      <td>A2MVUWT453QH61</td>\n",
       "      <td>Roy E. Perry \"amateur philosopher\"</td>\n",
       "      <td>7/7</td>\n",
       "      <td>4.0</td>\n",
       "      <td>1090713600</td>\n",
       "      <td>Phlip Nel gives silly Seuss a serious treatment</td>\n",
       "      <td>Theodore Seuss Geisel (1904-1991), aka &amp;quot;D...</td>\n",
       "    </tr>\n",
       "    <tr>\n",
       "      <th>4</th>\n",
       "      <td>0826414346</td>\n",
       "      <td>Dr. Seuss: American Icon</td>\n",
       "      <td>NaN</td>\n",
       "      <td>A22X4XUPKF66MR</td>\n",
       "      <td>D. H. Richards \"ninthwavestore\"</td>\n",
       "      <td>3/3</td>\n",
       "      <td>4.0</td>\n",
       "      <td>1107993600</td>\n",
       "      <td>Good academic overview</td>\n",
       "      <td>Philip Nel - Dr. Seuss: American IconThis is b...</td>\n",
       "    </tr>\n",
       "  </tbody>\n",
       "</table>\n",
       "</div>"
      ],
      "text/plain": [
       "           Id                           Title  Price         User_id  \\\n",
       "0  1882931173  Its Only Art If Its Well Hung!    NaN   AVCGYZL8FQQTD   \n",
       "1  0826414346        Dr. Seuss: American Icon    NaN  A30TK6U7DNS82R   \n",
       "2  0826414346        Dr. Seuss: American Icon    NaN  A3UH4UZ4RSVO82   \n",
       "3  0826414346        Dr. Seuss: American Icon    NaN  A2MVUWT453QH61   \n",
       "4  0826414346        Dr. Seuss: American Icon    NaN  A22X4XUPKF66MR   \n",
       "\n",
       "                          profileName review/helpfulness  review/score  \\\n",
       "0               Jim of Oz \"jim-of-oz\"                7/7           4.0   \n",
       "1                       Kevin Killian              10/10           5.0   \n",
       "2                        John Granger              10/11           5.0   \n",
       "3  Roy E. Perry \"amateur philosopher\"                7/7           4.0   \n",
       "4     D. H. Richards \"ninthwavestore\"                3/3           4.0   \n",
       "\n",
       "   review/time                                   review/summary  \\\n",
       "0    940636800           Nice collection of Julie Strain images   \n",
       "1   1095724800                                Really Enjoyed It   \n",
       "2   1078790400  Essential for every personal and Public Library   \n",
       "3   1090713600  Phlip Nel gives silly Seuss a serious treatment   \n",
       "4   1107993600                           Good academic overview   \n",
       "\n",
       "                                         review/text  \n",
       "0  This is only for Julie Strain fans. It's a col...  \n",
       "1  I don't care much for Dr. Seuss but after read...  \n",
       "2  If people become the books they read and if \"t...  \n",
       "3  Theodore Seuss Geisel (1904-1991), aka &quot;D...  \n",
       "4  Philip Nel - Dr. Seuss: American IconThis is b...  "
      ]
     },
     "execution_count": 74,
     "metadata": {},
     "output_type": "execute_result"
    }
   ],
   "source": [
    "# the full dataset is enormous so isn't in this repo. I make a subset here\n",
    "original_path = \"E:\\\\amazon_book_reviews\\\\Books_rating.csv\"\n",
    "books_df = pd.read_csv(original_path)\n",
    "books_df.head()"
   ]
  },
  {
   "cell_type": "code",
   "execution_count": 75,
   "metadata": {},
   "outputs": [
    {
     "data": {
      "text/html": [
       "<div>\n",
       "<style scoped>\n",
       "    .dataframe tbody tr th:only-of-type {\n",
       "        vertical-align: middle;\n",
       "    }\n",
       "\n",
       "    .dataframe tbody tr th {\n",
       "        vertical-align: top;\n",
       "    }\n",
       "\n",
       "    .dataframe thead th {\n",
       "        text-align: right;\n",
       "    }\n",
       "</style>\n",
       "<table border=\"1\" class=\"dataframe\">\n",
       "  <thead>\n",
       "    <tr style=\"text-align: right;\">\n",
       "      <th></th>\n",
       "      <th>Title</th>\n",
       "      <th>review/helpfulness</th>\n",
       "      <th>review/score</th>\n",
       "      <th>review/summary</th>\n",
       "      <th>review/text</th>\n",
       "    </tr>\n",
       "  </thead>\n",
       "  <tbody>\n",
       "    <tr>\n",
       "      <th>0</th>\n",
       "      <td>Its Only Art If Its Well Hung!</td>\n",
       "      <td>1.000000</td>\n",
       "      <td>4.0</td>\n",
       "      <td>Nice collection of Julie Strain images</td>\n",
       "      <td>This is only for Julie Strain fans. It's a col...</td>\n",
       "    </tr>\n",
       "    <tr>\n",
       "      <th>1</th>\n",
       "      <td>Dr. Seuss: American Icon</td>\n",
       "      <td>1.000000</td>\n",
       "      <td>5.0</td>\n",
       "      <td>Really Enjoyed It</td>\n",
       "      <td>I don't care much for Dr. Seuss but after read...</td>\n",
       "    </tr>\n",
       "    <tr>\n",
       "      <th>2</th>\n",
       "      <td>Dr. Seuss: American Icon</td>\n",
       "      <td>0.909091</td>\n",
       "      <td>5.0</td>\n",
       "      <td>Essential for every personal and Public Library</td>\n",
       "      <td>If people become the books they read and if \"t...</td>\n",
       "    </tr>\n",
       "    <tr>\n",
       "      <th>3</th>\n",
       "      <td>Dr. Seuss: American Icon</td>\n",
       "      <td>1.000000</td>\n",
       "      <td>4.0</td>\n",
       "      <td>Phlip Nel gives silly Seuss a serious treatment</td>\n",
       "      <td>Theodore Seuss Geisel (1904-1991), aka &amp;quot;D...</td>\n",
       "    </tr>\n",
       "    <tr>\n",
       "      <th>4</th>\n",
       "      <td>Dr. Seuss: American Icon</td>\n",
       "      <td>1.000000</td>\n",
       "      <td>4.0</td>\n",
       "      <td>Good academic overview</td>\n",
       "      <td>Philip Nel - Dr. Seuss: American IconThis is b...</td>\n",
       "    </tr>\n",
       "  </tbody>\n",
       "</table>\n",
       "</div>"
      ],
      "text/plain": [
       "                            Title  review/helpfulness  review/score  \\\n",
       "0  Its Only Art If Its Well Hung!            1.000000           4.0   \n",
       "1        Dr. Seuss: American Icon            1.000000           5.0   \n",
       "2        Dr. Seuss: American Icon            0.909091           5.0   \n",
       "3        Dr. Seuss: American Icon            1.000000           4.0   \n",
       "4        Dr. Seuss: American Icon            1.000000           4.0   \n",
       "\n",
       "                                    review/summary  \\\n",
       "0           Nice collection of Julie Strain images   \n",
       "1                                Really Enjoyed It   \n",
       "2  Essential for every personal and Public Library   \n",
       "3  Phlip Nel gives silly Seuss a serious treatment   \n",
       "4                           Good academic overview   \n",
       "\n",
       "                                         review/text  \n",
       "0  This is only for Julie Strain fans. It's a col...  \n",
       "1  I don't care much for Dr. Seuss but after read...  \n",
       "2  If people become the books they read and if \"t...  \n",
       "3  Theodore Seuss Geisel (1904-1991), aka &quot;D...  \n",
       "4  Philip Nel - Dr. Seuss: American IconThis is b...  "
      ]
     },
     "execution_count": 75,
     "metadata": {},
     "output_type": "execute_result"
    }
   ],
   "source": [
    "def helpful_to_int(a):\n",
    "    vals = [int(v) for v in a.strip().split(\"/\")]\n",
    "    if vals[1] != 0:\n",
    "        return vals[0]/vals[1]\n",
    "    return 0\n",
    "\n",
    "books_df[\"review/helpfulness\"] = books_df[\"review/helpfulness\"].apply(helpful_to_int)\n",
    "books_df = books_df[[\"Title\", \"review/helpfulness\", \"review/score\", \"review/summary\", \"review/text\"]]\n",
    "books_df.head()"
   ]
  },
  {
   "cell_type": "code",
   "execution_count": 76,
   "metadata": {},
   "outputs": [
    {
     "data": {
      "text/plain": [
       "(831783, 5)"
      ]
     },
     "execution_count": 76,
     "metadata": {},
     "output_type": "execute_result"
    }
   ],
   "source": [
    "books_df = books_df[books_df[\"review/helpfulness\"] == 1]\n",
    "books_df.shape"
   ]
  },
  {
   "cell_type": "code",
   "execution_count": 77,
   "metadata": {},
   "outputs": [
    {
     "data": {
      "text/plain": [
       "count                    3000\n",
       "unique                   2630\n",
       "top       Pride and Prejudice\n",
       "freq                       25\n",
       "Name: Title, dtype: object"
      ]
     },
     "execution_count": 77,
     "metadata": {},
     "output_type": "execute_result"
    }
   ],
   "source": [
    "subset = books_df.sample(n=3000)\n",
    "subset[\"Title\"].describe()"
   ]
  },
  {
   "cell_type": "code",
   "execution_count": 78,
   "metadata": {},
   "outputs": [],
   "source": [
    "# make two types of reviews. Just the summary and the full review\n",
    "\n",
    "book_sum_df = subset.sample(n=1000)\n",
    "book_full_df = subset.drop(book_sum_df.index)\n",
    "\n",
    "book_sum_df.drop(\"review/text\",axis=1,inplace=True)\n",
    "book_sum_df.rename({\"review/summary\":\"review\"}, axis=1, inplace=True)\n",
    "\n",
    "book_full_df.drop(\"review/summary\",axis=1, inplace=True)\n",
    "book_full_df.rename({\"review/text\":\"review\"}, axis=1, inplace=True)"
   ]
  },
  {
   "cell_type": "code",
   "execution_count": 79,
   "metadata": {},
   "outputs": [],
   "source": [
    "# we've already filtered to only helpful reviews so let's drop that col\n",
    "book_sum_df.drop(\"review/helpfulness\",axis=1,inplace=True)\n",
    "book_full_df.drop(\"review/helpfulness\",axis=1,inplace=True)"
   ]
  },
  {
   "cell_type": "code",
   "execution_count": 80,
   "metadata": {},
   "outputs": [
    {
     "data": {
      "text/html": [
       "<div>\n",
       "<style scoped>\n",
       "    .dataframe tbody tr th:only-of-type {\n",
       "        vertical-align: middle;\n",
       "    }\n",
       "\n",
       "    .dataframe tbody tr th {\n",
       "        vertical-align: top;\n",
       "    }\n",
       "\n",
       "    .dataframe thead th {\n",
       "        text-align: right;\n",
       "    }\n",
       "</style>\n",
       "<table border=\"1\" class=\"dataframe\">\n",
       "  <thead>\n",
       "    <tr style=\"text-align: right;\">\n",
       "      <th></th>\n",
       "      <th>Title</th>\n",
       "      <th>review/score</th>\n",
       "      <th>review</th>\n",
       "    </tr>\n",
       "  </thead>\n",
       "  <tbody>\n",
       "    <tr>\n",
       "      <th>277879</th>\n",
       "      <td>Old Yeller (A Literature unit)</td>\n",
       "      <td>5.0</td>\n",
       "      <td>This is one of the best books I have ever read...</td>\n",
       "    </tr>\n",
       "    <tr>\n",
       "      <th>899407</th>\n",
       "      <td>Eaters Of The Dead</td>\n",
       "      <td>4.0</td>\n",
       "      <td>Contrary to what has been said by many of the ...</td>\n",
       "    </tr>\n",
       "    <tr>\n",
       "      <th>2086023</th>\n",
       "      <td>God's Playground: A History of Poland, Vol. 1:...</td>\n",
       "      <td>5.0</td>\n",
       "      <td>As a child of a Pole, I have been appalled by ...</td>\n",
       "    </tr>\n",
       "    <tr>\n",
       "      <th>2521067</th>\n",
       "      <td>Here's How to Reach Me: Matching Instruction t...</td>\n",
       "      <td>5.0</td>\n",
       "      <td>I bought this book because I wanted to learn a...</td>\n",
       "    </tr>\n",
       "    <tr>\n",
       "      <th>1418234</th>\n",
       "      <td>Flowers in the Attic</td>\n",
       "      <td>4.0</td>\n",
       "      <td>I remember watching the movie version of \"Flow...</td>\n",
       "    </tr>\n",
       "    <tr>\n",
       "      <th>...</th>\n",
       "      <td>...</td>\n",
       "      <td>...</td>\n",
       "      <td>...</td>\n",
       "    </tr>\n",
       "    <tr>\n",
       "      <th>275589</th>\n",
       "      <td>Bury My Heart at Wounded Knee: An Indian Histo...</td>\n",
       "      <td>5.0</td>\n",
       "      <td>This illustrated edition is a very beautiful b...</td>\n",
       "    </tr>\n",
       "    <tr>\n",
       "      <th>872855</th>\n",
       "      <td>The Art of the Novel</td>\n",
       "      <td>5.0</td>\n",
       "      <td>Milan Kundera is a Czechoslavakian writer who ...</td>\n",
       "    </tr>\n",
       "    <tr>\n",
       "      <th>1965406</th>\n",
       "      <td>Jurassic Park</td>\n",
       "      <td>5.0</td>\n",
       "      <td>I read this book when I was in high school whi...</td>\n",
       "    </tr>\n",
       "    <tr>\n",
       "      <th>2181893</th>\n",
       "      <td>Little Lord Fauntleroy</td>\n",
       "      <td>5.0</td>\n",
       "      <td>This is another book that I can hardly wait to...</td>\n",
       "    </tr>\n",
       "    <tr>\n",
       "      <th>2515068</th>\n",
       "      <td>The Book of Regional American Cooking: Southwest</td>\n",
       "      <td>5.0</td>\n",
       "      <td>There is nothing magic or secret about southwe...</td>\n",
       "    </tr>\n",
       "  </tbody>\n",
       "</table>\n",
       "<p>2000 rows × 3 columns</p>\n",
       "</div>"
      ],
      "text/plain": [
       "                                                     Title  review/score  \\\n",
       "277879                      Old Yeller (A Literature unit)           5.0   \n",
       "899407                                  Eaters Of The Dead           4.0   \n",
       "2086023  God's Playground: A History of Poland, Vol. 1:...           5.0   \n",
       "2521067  Here's How to Reach Me: Matching Instruction t...           5.0   \n",
       "1418234                               Flowers in the Attic           4.0   \n",
       "...                                                    ...           ...   \n",
       "275589   Bury My Heart at Wounded Knee: An Indian Histo...           5.0   \n",
       "872855                                The Art of the Novel           5.0   \n",
       "1965406                                      Jurassic Park           5.0   \n",
       "2181893                             Little Lord Fauntleroy           5.0   \n",
       "2515068   The Book of Regional American Cooking: Southwest           5.0   \n",
       "\n",
       "                                                    review  \n",
       "277879   This is one of the best books I have ever read...  \n",
       "899407   Contrary to what has been said by many of the ...  \n",
       "2086023  As a child of a Pole, I have been appalled by ...  \n",
       "2521067  I bought this book because I wanted to learn a...  \n",
       "1418234  I remember watching the movie version of \"Flow...  \n",
       "...                                                    ...  \n",
       "275589   This illustrated edition is a very beautiful b...  \n",
       "872855   Milan Kundera is a Czechoslavakian writer who ...  \n",
       "1965406  I read this book when I was in high school whi...  \n",
       "2181893  This is another book that I can hardly wait to...  \n",
       "2515068  There is nothing magic or secret about southwe...  \n",
       "\n",
       "[2000 rows x 3 columns]"
      ]
     },
     "execution_count": 80,
     "metadata": {},
     "output_type": "execute_result"
    }
   ],
   "source": [
    "book_full_df"
   ]
  },
  {
   "cell_type": "code",
   "execution_count": 81,
   "metadata": {},
   "outputs": [
    {
     "data": {
      "text/html": [
       "<div>\n",
       "<style scoped>\n",
       "    .dataframe tbody tr th:only-of-type {\n",
       "        vertical-align: middle;\n",
       "    }\n",
       "\n",
       "    .dataframe tbody tr th {\n",
       "        vertical-align: top;\n",
       "    }\n",
       "\n",
       "    .dataframe thead th {\n",
       "        text-align: right;\n",
       "    }\n",
       "</style>\n",
       "<table border=\"1\" class=\"dataframe\">\n",
       "  <thead>\n",
       "    <tr style=\"text-align: right;\">\n",
       "      <th></th>\n",
       "      <th>Title</th>\n",
       "      <th>review/score</th>\n",
       "      <th>review</th>\n",
       "    </tr>\n",
       "  </thead>\n",
       "  <tbody>\n",
       "    <tr>\n",
       "      <th>739331</th>\n",
       "      <td>One Flew Over the Cuckoo's Nest</td>\n",
       "      <td>5.0</td>\n",
       "      <td>This entertaining and often hilarious read rem...</td>\n",
       "    </tr>\n",
       "    <tr>\n",
       "      <th>2989652</th>\n",
       "      <td>In Silent Graves</td>\n",
       "      <td>5.0</td>\n",
       "      <td>Wonderful!</td>\n",
       "    </tr>\n",
       "    <tr>\n",
       "      <th>1271699</th>\n",
       "      <td>Flight of the Swan</td>\n",
       "      <td>5.0</td>\n",
       "      <td>Historical fiction at its best</td>\n",
       "    </tr>\n",
       "    <tr>\n",
       "      <th>2350448</th>\n",
       "      <td>The Art of Noir: THE POSTERS &amp; GRAPHICS FROM T...</td>\n",
       "      <td>5.0</td>\n",
       "      <td>Stunning Showcase of the Poster Art of Classic...</td>\n",
       "    </tr>\n",
       "    <tr>\n",
       "      <th>118513</th>\n",
       "      <td>Eurocomunismo y estado (Temas hispanicos) (Spa...</td>\n",
       "      <td>4.0</td>\n",
       "      <td>Un t&amp;iacute;tulo imprescindible para comprende...</td>\n",
       "    </tr>\n",
       "    <tr>\n",
       "      <th>...</th>\n",
       "      <td>...</td>\n",
       "      <td>...</td>\n",
       "      <td>...</td>\n",
       "    </tr>\n",
       "    <tr>\n",
       "      <th>2945959</th>\n",
       "      <td>A Death In The Family</td>\n",
       "      <td>5.0</td>\n",
       "      <td>Sad, beautiful, artistic and real - this book ...</td>\n",
       "    </tr>\n",
       "    <tr>\n",
       "      <th>2348337</th>\n",
       "      <td>Goodnight Train</td>\n",
       "      <td>5.0</td>\n",
       "      <td>Another fantastic train bedtime book!</td>\n",
       "    </tr>\n",
       "    <tr>\n",
       "      <th>657121</th>\n",
       "      <td>Murach's VB.NET Database Programming with ADO.NET</td>\n",
       "      <td>5.0</td>\n",
       "      <td>Another masterpiece from Murach's series</td>\n",
       "    </tr>\n",
       "    <tr>\n",
       "      <th>1682671</th>\n",
       "      <td>The Hobbit</td>\n",
       "      <td>5.0</td>\n",
       "      <td>Definitely There and Back Again</td>\n",
       "    </tr>\n",
       "    <tr>\n",
       "      <th>518009</th>\n",
       "      <td>Remarkable Healings: A Psychiatrist Discovers ...</td>\n",
       "      <td>5.0</td>\n",
       "      <td>A Remarkable Book</td>\n",
       "    </tr>\n",
       "  </tbody>\n",
       "</table>\n",
       "<p>1000 rows × 3 columns</p>\n",
       "</div>"
      ],
      "text/plain": [
       "                                                     Title  review/score  \\\n",
       "739331                     One Flew Over the Cuckoo's Nest           5.0   \n",
       "2989652                                   In Silent Graves           5.0   \n",
       "1271699                                 Flight of the Swan           5.0   \n",
       "2350448  The Art of Noir: THE POSTERS & GRAPHICS FROM T...           5.0   \n",
       "118513   Eurocomunismo y estado (Temas hispanicos) (Spa...           4.0   \n",
       "...                                                    ...           ...   \n",
       "2945959                              A Death In The Family           5.0   \n",
       "2348337                                    Goodnight Train           5.0   \n",
       "657121   Murach's VB.NET Database Programming with ADO.NET           5.0   \n",
       "1682671                                         The Hobbit           5.0   \n",
       "518009   Remarkable Healings: A Psychiatrist Discovers ...           5.0   \n",
       "\n",
       "                                                    review  \n",
       "739331   This entertaining and often hilarious read rem...  \n",
       "2989652                                         Wonderful!  \n",
       "1271699                     Historical fiction at its best  \n",
       "2350448  Stunning Showcase of the Poster Art of Classic...  \n",
       "118513   Un t&iacute;tulo imprescindible para comprende...  \n",
       "...                                                    ...  \n",
       "2945959  Sad, beautiful, artistic and real - this book ...  \n",
       "2348337              Another fantastic train bedtime book!  \n",
       "657121            Another masterpiece from Murach's series  \n",
       "1682671                    Definitely There and Back Again  \n",
       "518009                                   A Remarkable Book  \n",
       "\n",
       "[1000 rows x 3 columns]"
      ]
     },
     "execution_count": 81,
     "metadata": {},
     "output_type": "execute_result"
    }
   ],
   "source": [
    "book_sum_df"
   ]
  },
  {
   "cell_type": "code",
   "execution_count": 82,
   "metadata": {},
   "outputs": [
    {
     "data": {
      "text/html": [
       "<div>\n",
       "<style scoped>\n",
       "    .dataframe tbody tr th:only-of-type {\n",
       "        vertical-align: middle;\n",
       "    }\n",
       "\n",
       "    .dataframe tbody tr th {\n",
       "        vertical-align: top;\n",
       "    }\n",
       "\n",
       "    .dataframe thead th {\n",
       "        text-align: right;\n",
       "    }\n",
       "</style>\n",
       "<table border=\"1\" class=\"dataframe\">\n",
       "  <thead>\n",
       "    <tr style=\"text-align: right;\">\n",
       "      <th></th>\n",
       "      <th>review/score</th>\n",
       "    </tr>\n",
       "  </thead>\n",
       "  <tbody>\n",
       "    <tr>\n",
       "      <th>count</th>\n",
       "      <td>2000.000000</td>\n",
       "    </tr>\n",
       "    <tr>\n",
       "      <th>mean</th>\n",
       "      <td>4.515000</td>\n",
       "    </tr>\n",
       "    <tr>\n",
       "      <th>std</th>\n",
       "      <td>0.877588</td>\n",
       "    </tr>\n",
       "    <tr>\n",
       "      <th>min</th>\n",
       "      <td>1.000000</td>\n",
       "    </tr>\n",
       "    <tr>\n",
       "      <th>25%</th>\n",
       "      <td>4.000000</td>\n",
       "    </tr>\n",
       "    <tr>\n",
       "      <th>50%</th>\n",
       "      <td>5.000000</td>\n",
       "    </tr>\n",
       "    <tr>\n",
       "      <th>75%</th>\n",
       "      <td>5.000000</td>\n",
       "    </tr>\n",
       "    <tr>\n",
       "      <th>max</th>\n",
       "      <td>5.000000</td>\n",
       "    </tr>\n",
       "  </tbody>\n",
       "</table>\n",
       "</div>"
      ],
      "text/plain": [
       "       review/score\n",
       "count   2000.000000\n",
       "mean       4.515000\n",
       "std        0.877588\n",
       "min        1.000000\n",
       "25%        4.000000\n",
       "50%        5.000000\n",
       "75%        5.000000\n",
       "max        5.000000"
      ]
     },
     "execution_count": 82,
     "metadata": {},
     "output_type": "execute_result"
    }
   ],
   "source": [
    "book_full_df.describe()"
   ]
  },
  {
   "cell_type": "code",
   "execution_count": 83,
   "metadata": {},
   "outputs": [
    {
     "data": {
      "text/html": [
       "<div>\n",
       "<style scoped>\n",
       "    .dataframe tbody tr th:only-of-type {\n",
       "        vertical-align: middle;\n",
       "    }\n",
       "\n",
       "    .dataframe tbody tr th {\n",
       "        vertical-align: top;\n",
       "    }\n",
       "\n",
       "    .dataframe thead th {\n",
       "        text-align: right;\n",
       "    }\n",
       "</style>\n",
       "<table border=\"1\" class=\"dataframe\">\n",
       "  <thead>\n",
       "    <tr style=\"text-align: right;\">\n",
       "      <th></th>\n",
       "      <th>review/score</th>\n",
       "    </tr>\n",
       "  </thead>\n",
       "  <tbody>\n",
       "    <tr>\n",
       "      <th>count</th>\n",
       "      <td>1000.000000</td>\n",
       "    </tr>\n",
       "    <tr>\n",
       "      <th>mean</th>\n",
       "      <td>4.531000</td>\n",
       "    </tr>\n",
       "    <tr>\n",
       "      <th>std</th>\n",
       "      <td>0.864747</td>\n",
       "    </tr>\n",
       "    <tr>\n",
       "      <th>min</th>\n",
       "      <td>1.000000</td>\n",
       "    </tr>\n",
       "    <tr>\n",
       "      <th>25%</th>\n",
       "      <td>4.000000</td>\n",
       "    </tr>\n",
       "    <tr>\n",
       "      <th>50%</th>\n",
       "      <td>5.000000</td>\n",
       "    </tr>\n",
       "    <tr>\n",
       "      <th>75%</th>\n",
       "      <td>5.000000</td>\n",
       "    </tr>\n",
       "    <tr>\n",
       "      <th>max</th>\n",
       "      <td>5.000000</td>\n",
       "    </tr>\n",
       "  </tbody>\n",
       "</table>\n",
       "</div>"
      ],
      "text/plain": [
       "       review/score\n",
       "count   1000.000000\n",
       "mean       4.531000\n",
       "std        0.864747\n",
       "min        1.000000\n",
       "25%        4.000000\n",
       "50%        5.000000\n",
       "75%        5.000000\n",
       "max        5.000000"
      ]
     },
     "execution_count": 83,
     "metadata": {},
     "output_type": "execute_result"
    }
   ],
   "source": [
    "book_sum_df.describe()"
   ]
  },
  {
   "cell_type": "code",
   "execution_count": 84,
   "metadata": {},
   "outputs": [
    {
     "data": {
      "text/html": [
       "<div>\n",
       "<style scoped>\n",
       "    .dataframe tbody tr th:only-of-type {\n",
       "        vertical-align: middle;\n",
       "    }\n",
       "\n",
       "    .dataframe tbody tr th {\n",
       "        vertical-align: top;\n",
       "    }\n",
       "\n",
       "    .dataframe thead th {\n",
       "        text-align: right;\n",
       "    }\n",
       "</style>\n",
       "<table border=\"1\" class=\"dataframe\">\n",
       "  <thead>\n",
       "    <tr style=\"text-align: right;\">\n",
       "      <th></th>\n",
       "      <th>Title</th>\n",
       "      <th>review/score</th>\n",
       "      <th>review</th>\n",
       "    </tr>\n",
       "  </thead>\n",
       "  <tbody>\n",
       "    <tr>\n",
       "      <th>739331</th>\n",
       "      <td>One Flew Over the Cuckoo's Nest</td>\n",
       "      <td>5.0</td>\n",
       "      <td>This entertaining and often hilarious read rem...</td>\n",
       "    </tr>\n",
       "    <tr>\n",
       "      <th>2989652</th>\n",
       "      <td>In Silent Graves</td>\n",
       "      <td>5.0</td>\n",
       "      <td>Wonderful!</td>\n",
       "    </tr>\n",
       "    <tr>\n",
       "      <th>1271699</th>\n",
       "      <td>Flight of the Swan</td>\n",
       "      <td>5.0</td>\n",
       "      <td>Historical fiction at its best</td>\n",
       "    </tr>\n",
       "    <tr>\n",
       "      <th>2350448</th>\n",
       "      <td>The Art of Noir: THE POSTERS &amp; GRAPHICS FROM T...</td>\n",
       "      <td>5.0</td>\n",
       "      <td>Stunning Showcase of the Poster Art of Classic...</td>\n",
       "    </tr>\n",
       "    <tr>\n",
       "      <th>118513</th>\n",
       "      <td>Eurocomunismo y estado (Temas hispanicos) (Spa...</td>\n",
       "      <td>4.0</td>\n",
       "      <td>Un t&amp;iacute;tulo imprescindible para comprende...</td>\n",
       "    </tr>\n",
       "    <tr>\n",
       "      <th>...</th>\n",
       "      <td>...</td>\n",
       "      <td>...</td>\n",
       "      <td>...</td>\n",
       "    </tr>\n",
       "    <tr>\n",
       "      <th>275589</th>\n",
       "      <td>Bury My Heart at Wounded Knee: An Indian Histo...</td>\n",
       "      <td>5.0</td>\n",
       "      <td>This illustrated edition is a very beautiful b...</td>\n",
       "    </tr>\n",
       "    <tr>\n",
       "      <th>872855</th>\n",
       "      <td>The Art of the Novel</td>\n",
       "      <td>5.0</td>\n",
       "      <td>Milan Kundera is a Czechoslavakian writer who ...</td>\n",
       "    </tr>\n",
       "    <tr>\n",
       "      <th>1965406</th>\n",
       "      <td>Jurassic Park</td>\n",
       "      <td>5.0</td>\n",
       "      <td>I read this book when I was in high school whi...</td>\n",
       "    </tr>\n",
       "    <tr>\n",
       "      <th>2181893</th>\n",
       "      <td>Little Lord Fauntleroy</td>\n",
       "      <td>5.0</td>\n",
       "      <td>This is another book that I can hardly wait to...</td>\n",
       "    </tr>\n",
       "    <tr>\n",
       "      <th>2515068</th>\n",
       "      <td>The Book of Regional American Cooking: Southwest</td>\n",
       "      <td>5.0</td>\n",
       "      <td>There is nothing magic or secret about southwe...</td>\n",
       "    </tr>\n",
       "  </tbody>\n",
       "</table>\n",
       "<p>3000 rows × 3 columns</p>\n",
       "</div>"
      ],
      "text/plain": [
       "                                                     Title  review/score  \\\n",
       "739331                     One Flew Over the Cuckoo's Nest           5.0   \n",
       "2989652                                   In Silent Graves           5.0   \n",
       "1271699                                 Flight of the Swan           5.0   \n",
       "2350448  The Art of Noir: THE POSTERS & GRAPHICS FROM T...           5.0   \n",
       "118513   Eurocomunismo y estado (Temas hispanicos) (Spa...           4.0   \n",
       "...                                                    ...           ...   \n",
       "275589   Bury My Heart at Wounded Knee: An Indian Histo...           5.0   \n",
       "872855                                The Art of the Novel           5.0   \n",
       "1965406                                      Jurassic Park           5.0   \n",
       "2181893                             Little Lord Fauntleroy           5.0   \n",
       "2515068   The Book of Regional American Cooking: Southwest           5.0   \n",
       "\n",
       "                                                    review  \n",
       "739331   This entertaining and often hilarious read rem...  \n",
       "2989652                                         Wonderful!  \n",
       "1271699                     Historical fiction at its best  \n",
       "2350448  Stunning Showcase of the Poster Art of Classic...  \n",
       "118513   Un t&iacute;tulo imprescindible para comprende...  \n",
       "...                                                    ...  \n",
       "275589   This illustrated edition is a very beautiful b...  \n",
       "872855   Milan Kundera is a Czechoslavakian writer who ...  \n",
       "1965406  I read this book when I was in high school whi...  \n",
       "2181893  This is another book that I can hardly wait to...  \n",
       "2515068  There is nothing magic or secret about southwe...  \n",
       "\n",
       "[3000 rows x 3 columns]"
      ]
     },
     "execution_count": 84,
     "metadata": {},
     "output_type": "execute_result"
    }
   ],
   "source": [
    "#recombine them\n",
    "books_sub_df = pd.concat([book_sum_df, book_full_df])\n",
    "books_sub_df"
   ]
  },
  {
   "cell_type": "code",
   "execution_count": 86,
   "metadata": {},
   "outputs": [
    {
     "data": {
      "text/plain": [
       "(2881, 3)"
      ]
     },
     "execution_count": 86,
     "metadata": {},
     "output_type": "execute_result"
    }
   ],
   "source": [
    "# drop non english\n",
    "books_sub_df = books_sub_df[books_sub_df[\"review\"].apply(is_en) == \"en\"]\n",
    "books_sub_df.shape"
   ]
  },
  {
   "cell_type": "code",
   "execution_count": 87,
   "metadata": {},
   "outputs": [
    {
     "name": "stderr",
     "output_type": "stream",
     "text": [
      "C:\\Users\\Jake\\AppData\\Local\\Temp\\ipykernel_18072\\2501823406.py:1: SettingWithCopyWarning: \n",
      "A value is trying to be set on a copy of a slice from a DataFrame.\n",
      "Try using .loc[row_indexer,col_indexer] = value instead\n",
      "\n",
      "See the caveats in the documentation: https://pandas.pydata.org/pandas-docs/stable/user_guide/indexing.html#returning-a-view-versus-a-copy\n",
      "  books_sub_df[\"n_toks\"] = books_sub_df[\"review\"].apply(count_toks)\n"
     ]
    },
    {
     "data": {
      "text/html": [
       "<div>\n",
       "<style scoped>\n",
       "    .dataframe tbody tr th:only-of-type {\n",
       "        vertical-align: middle;\n",
       "    }\n",
       "\n",
       "    .dataframe tbody tr th {\n",
       "        vertical-align: top;\n",
       "    }\n",
       "\n",
       "    .dataframe thead th {\n",
       "        text-align: right;\n",
       "    }\n",
       "</style>\n",
       "<table border=\"1\" class=\"dataframe\">\n",
       "  <thead>\n",
       "    <tr style=\"text-align: right;\">\n",
       "      <th></th>\n",
       "      <th>Title</th>\n",
       "      <th>review/score</th>\n",
       "      <th>review</th>\n",
       "      <th>n_toks</th>\n",
       "    </tr>\n",
       "  </thead>\n",
       "  <tbody>\n",
       "    <tr>\n",
       "      <th>739331</th>\n",
       "      <td>One Flew Over the Cuckoo's Nest</td>\n",
       "      <td>5.0</td>\n",
       "      <td>This entertaining and often hilarious read rem...</td>\n",
       "      <td>7</td>\n",
       "    </tr>\n",
       "    <tr>\n",
       "      <th>1271699</th>\n",
       "      <td>Flight of the Swan</td>\n",
       "      <td>5.0</td>\n",
       "      <td>Historical fiction at its best</td>\n",
       "      <td>5</td>\n",
       "    </tr>\n",
       "    <tr>\n",
       "      <th>2350448</th>\n",
       "      <td>The Art of Noir: THE POSTERS &amp; GRAPHICS FROM T...</td>\n",
       "      <td>5.0</td>\n",
       "      <td>Stunning Showcase of the Poster Art of Classic...</td>\n",
       "      <td>10</td>\n",
       "    </tr>\n",
       "    <tr>\n",
       "      <th>344537</th>\n",
       "      <td>What Buddha Never Taught</td>\n",
       "      <td>5.0</td>\n",
       "      <td>Fascinating, stimulating and fun tale..</td>\n",
       "      <td>5</td>\n",
       "    </tr>\n",
       "    <tr>\n",
       "      <th>2794916</th>\n",
       "      <td>A Bride Most Begrudging</td>\n",
       "      <td>5.0</td>\n",
       "      <td>This was amazing!!!</td>\n",
       "      <td>3</td>\n",
       "    </tr>\n",
       "  </tbody>\n",
       "</table>\n",
       "</div>"
      ],
      "text/plain": [
       "                                                     Title  review/score  \\\n",
       "739331                     One Flew Over the Cuckoo's Nest           5.0   \n",
       "1271699                                 Flight of the Swan           5.0   \n",
       "2350448  The Art of Noir: THE POSTERS & GRAPHICS FROM T...           5.0   \n",
       "344537                            What Buddha Never Taught           5.0   \n",
       "2794916                            A Bride Most Begrudging           5.0   \n",
       "\n",
       "                                                    review  n_toks  \n",
       "739331   This entertaining and often hilarious read rem...       7  \n",
       "1271699                     Historical fiction at its best       5  \n",
       "2350448  Stunning Showcase of the Poster Art of Classic...      10  \n",
       "344537             Fascinating, stimulating and fun tale..       5  \n",
       "2794916                                This was amazing!!!       3  "
      ]
     },
     "execution_count": 87,
     "metadata": {},
     "output_type": "execute_result"
    }
   ],
   "source": [
    "books_sub_df[\"n_toks\"] = books_sub_df[\"review\"].apply(count_toks)\n",
    "books_sub_df.head()"
   ]
  },
  {
   "cell_type": "code",
   "execution_count": 88,
   "metadata": {},
   "outputs": [
    {
     "name": "stderr",
     "output_type": "stream",
     "text": [
      "C:\\Users\\Jake\\AppData\\Local\\Temp\\ipykernel_18072\\4225197127.py:1: SettingWithCopyWarning: \n",
      "A value is trying to be set on a copy of a slice from a DataFrame.\n",
      "Try using .loc[row_indexer,col_indexer] = value instead\n",
      "\n",
      "See the caveats in the documentation: https://pandas.pydata.org/pandas-docs/stable/user_guide/indexing.html#returning-a-view-versus-a-copy\n",
      "  books_sub_df[\"sentiment_score\"] = books_sub_df[\"review/score\"]*0.2\n",
      "C:\\Users\\Jake\\AppData\\Local\\Temp\\ipykernel_18072\\4225197127.py:2: SettingWithCopyWarning: \n",
      "A value is trying to be set on a copy of a slice from a DataFrame\n",
      "\n",
      "See the caveats in the documentation: https://pandas.pydata.org/pandas-docs/stable/user_guide/indexing.html#returning-a-view-versus-a-copy\n",
      "  books_sub_df.drop(\"review/score\", axis=1, inplace=True)\n"
     ]
    },
    {
     "data": {
      "text/html": [
       "<div>\n",
       "<style scoped>\n",
       "    .dataframe tbody tr th:only-of-type {\n",
       "        vertical-align: middle;\n",
       "    }\n",
       "\n",
       "    .dataframe tbody tr th {\n",
       "        vertical-align: top;\n",
       "    }\n",
       "\n",
       "    .dataframe thead th {\n",
       "        text-align: right;\n",
       "    }\n",
       "</style>\n",
       "<table border=\"1\" class=\"dataframe\">\n",
       "  <thead>\n",
       "    <tr style=\"text-align: right;\">\n",
       "      <th></th>\n",
       "      <th>Title</th>\n",
       "      <th>review</th>\n",
       "      <th>n_toks</th>\n",
       "      <th>sentiment_score</th>\n",
       "    </tr>\n",
       "  </thead>\n",
       "  <tbody>\n",
       "    <tr>\n",
       "      <th>739331</th>\n",
       "      <td>One Flew Over the Cuckoo's Nest</td>\n",
       "      <td>This entertaining and often hilarious read rem...</td>\n",
       "      <td>7</td>\n",
       "      <td>1.0</td>\n",
       "    </tr>\n",
       "    <tr>\n",
       "      <th>1271699</th>\n",
       "      <td>Flight of the Swan</td>\n",
       "      <td>Historical fiction at its best</td>\n",
       "      <td>5</td>\n",
       "      <td>1.0</td>\n",
       "    </tr>\n",
       "    <tr>\n",
       "      <th>2350448</th>\n",
       "      <td>The Art of Noir: THE POSTERS &amp; GRAPHICS FROM T...</td>\n",
       "      <td>Stunning Showcase of the Poster Art of Classic...</td>\n",
       "      <td>10</td>\n",
       "      <td>1.0</td>\n",
       "    </tr>\n",
       "    <tr>\n",
       "      <th>344537</th>\n",
       "      <td>What Buddha Never Taught</td>\n",
       "      <td>Fascinating, stimulating and fun tale..</td>\n",
       "      <td>5</td>\n",
       "      <td>1.0</td>\n",
       "    </tr>\n",
       "    <tr>\n",
       "      <th>2794916</th>\n",
       "      <td>A Bride Most Begrudging</td>\n",
       "      <td>This was amazing!!!</td>\n",
       "      <td>3</td>\n",
       "      <td>1.0</td>\n",
       "    </tr>\n",
       "    <tr>\n",
       "      <th>...</th>\n",
       "      <td>...</td>\n",
       "      <td>...</td>\n",
       "      <td>...</td>\n",
       "      <td>...</td>\n",
       "    </tr>\n",
       "    <tr>\n",
       "      <th>275589</th>\n",
       "      <td>Bury My Heart at Wounded Knee: An Indian Histo...</td>\n",
       "      <td>This illustrated edition is a very beautiful b...</td>\n",
       "      <td>242</td>\n",
       "      <td>1.0</td>\n",
       "    </tr>\n",
       "    <tr>\n",
       "      <th>872855</th>\n",
       "      <td>The Art of the Novel</td>\n",
       "      <td>Milan Kundera is a Czechoslavakian writer who ...</td>\n",
       "      <td>283</td>\n",
       "      <td>1.0</td>\n",
       "    </tr>\n",
       "    <tr>\n",
       "      <th>1965406</th>\n",
       "      <td>Jurassic Park</td>\n",
       "      <td>I read this book when I was in high school whi...</td>\n",
       "      <td>85</td>\n",
       "      <td>1.0</td>\n",
       "    </tr>\n",
       "    <tr>\n",
       "      <th>2181893</th>\n",
       "      <td>Little Lord Fauntleroy</td>\n",
       "      <td>This is another book that I can hardly wait to...</td>\n",
       "      <td>27</td>\n",
       "      <td>1.0</td>\n",
       "    </tr>\n",
       "    <tr>\n",
       "      <th>2515068</th>\n",
       "      <td>The Book of Regional American Cooking: Southwest</td>\n",
       "      <td>There is nothing magic or secret about southwe...</td>\n",
       "      <td>143</td>\n",
       "      <td>1.0</td>\n",
       "    </tr>\n",
       "  </tbody>\n",
       "</table>\n",
       "<p>2881 rows × 4 columns</p>\n",
       "</div>"
      ],
      "text/plain": [
       "                                                     Title  \\\n",
       "739331                     One Flew Over the Cuckoo's Nest   \n",
       "1271699                                 Flight of the Swan   \n",
       "2350448  The Art of Noir: THE POSTERS & GRAPHICS FROM T...   \n",
       "344537                            What Buddha Never Taught   \n",
       "2794916                            A Bride Most Begrudging   \n",
       "...                                                    ...   \n",
       "275589   Bury My Heart at Wounded Knee: An Indian Histo...   \n",
       "872855                                The Art of the Novel   \n",
       "1965406                                      Jurassic Park   \n",
       "2181893                             Little Lord Fauntleroy   \n",
       "2515068   The Book of Regional American Cooking: Southwest   \n",
       "\n",
       "                                                    review  n_toks  \\\n",
       "739331   This entertaining and often hilarious read rem...       7   \n",
       "1271699                     Historical fiction at its best       5   \n",
       "2350448  Stunning Showcase of the Poster Art of Classic...      10   \n",
       "344537             Fascinating, stimulating and fun tale..       5   \n",
       "2794916                                This was amazing!!!       3   \n",
       "...                                                    ...     ...   \n",
       "275589   This illustrated edition is a very beautiful b...     242   \n",
       "872855   Milan Kundera is a Czechoslavakian writer who ...     283   \n",
       "1965406  I read this book when I was in high school whi...      85   \n",
       "2181893  This is another book that I can hardly wait to...      27   \n",
       "2515068  There is nothing magic or secret about southwe...     143   \n",
       "\n",
       "         sentiment_score  \n",
       "739331               1.0  \n",
       "1271699              1.0  \n",
       "2350448              1.0  \n",
       "344537               1.0  \n",
       "2794916              1.0  \n",
       "...                  ...  \n",
       "275589               1.0  \n",
       "872855               1.0  \n",
       "1965406              1.0  \n",
       "2181893              1.0  \n",
       "2515068              1.0  \n",
       "\n",
       "[2881 rows x 4 columns]"
      ]
     },
     "execution_count": 88,
     "metadata": {},
     "output_type": "execute_result"
    }
   ],
   "source": [
    "books_sub_df[\"sentiment_score\"] = books_sub_df[\"review/score\"]*0.2\n",
    "books_sub_df.drop(\"review/score\", axis=1, inplace=True)\n",
    "books_sub_df"
   ]
  },
  {
   "cell_type": "code",
   "execution_count": 89,
   "metadata": {},
   "outputs": [
    {
     "name": "stderr",
     "output_type": "stream",
     "text": [
      "C:\\Users\\Jake\\AppData\\Local\\Temp\\ipykernel_18072\\2703216620.py:1: SettingWithCopyWarning: \n",
      "A value is trying to be set on a copy of a slice from a DataFrame\n",
      "\n",
      "See the caveats in the documentation: https://pandas.pydata.org/pandas-docs/stable/user_guide/indexing.html#returning-a-view-versus-a-copy\n",
      "  books_sub_df.drop(\"Title\", axis=1, inplace=True)\n"
     ]
    },
    {
     "data": {
      "text/html": [
       "<div>\n",
       "<style scoped>\n",
       "    .dataframe tbody tr th:only-of-type {\n",
       "        vertical-align: middle;\n",
       "    }\n",
       "\n",
       "    .dataframe tbody tr th {\n",
       "        vertical-align: top;\n",
       "    }\n",
       "\n",
       "    .dataframe thead th {\n",
       "        text-align: right;\n",
       "    }\n",
       "</style>\n",
       "<table border=\"1\" class=\"dataframe\">\n",
       "  <thead>\n",
       "    <tr style=\"text-align: right;\">\n",
       "      <th></th>\n",
       "      <th>review</th>\n",
       "      <th>n_toks</th>\n",
       "      <th>sentiment_score</th>\n",
       "    </tr>\n",
       "  </thead>\n",
       "  <tbody>\n",
       "    <tr>\n",
       "      <th>739331</th>\n",
       "      <td>This entertaining and often hilarious read rem...</td>\n",
       "      <td>7</td>\n",
       "      <td>1.0</td>\n",
       "    </tr>\n",
       "    <tr>\n",
       "      <th>1271699</th>\n",
       "      <td>Historical fiction at its best</td>\n",
       "      <td>5</td>\n",
       "      <td>1.0</td>\n",
       "    </tr>\n",
       "    <tr>\n",
       "      <th>2350448</th>\n",
       "      <td>Stunning Showcase of the Poster Art of Classic...</td>\n",
       "      <td>10</td>\n",
       "      <td>1.0</td>\n",
       "    </tr>\n",
       "    <tr>\n",
       "      <th>344537</th>\n",
       "      <td>Fascinating, stimulating and fun tale..</td>\n",
       "      <td>5</td>\n",
       "      <td>1.0</td>\n",
       "    </tr>\n",
       "    <tr>\n",
       "      <th>2794916</th>\n",
       "      <td>This was amazing!!!</td>\n",
       "      <td>3</td>\n",
       "      <td>1.0</td>\n",
       "    </tr>\n",
       "    <tr>\n",
       "      <th>...</th>\n",
       "      <td>...</td>\n",
       "      <td>...</td>\n",
       "      <td>...</td>\n",
       "    </tr>\n",
       "    <tr>\n",
       "      <th>275589</th>\n",
       "      <td>This illustrated edition is a very beautiful b...</td>\n",
       "      <td>242</td>\n",
       "      <td>1.0</td>\n",
       "    </tr>\n",
       "    <tr>\n",
       "      <th>872855</th>\n",
       "      <td>Milan Kundera is a Czechoslavakian writer who ...</td>\n",
       "      <td>283</td>\n",
       "      <td>1.0</td>\n",
       "    </tr>\n",
       "    <tr>\n",
       "      <th>1965406</th>\n",
       "      <td>I read this book when I was in high school whi...</td>\n",
       "      <td>85</td>\n",
       "      <td>1.0</td>\n",
       "    </tr>\n",
       "    <tr>\n",
       "      <th>2181893</th>\n",
       "      <td>This is another book that I can hardly wait to...</td>\n",
       "      <td>27</td>\n",
       "      <td>1.0</td>\n",
       "    </tr>\n",
       "    <tr>\n",
       "      <th>2515068</th>\n",
       "      <td>There is nothing magic or secret about southwe...</td>\n",
       "      <td>143</td>\n",
       "      <td>1.0</td>\n",
       "    </tr>\n",
       "  </tbody>\n",
       "</table>\n",
       "<p>2881 rows × 3 columns</p>\n",
       "</div>"
      ],
      "text/plain": [
       "                                                    review  n_toks  \\\n",
       "739331   This entertaining and often hilarious read rem...       7   \n",
       "1271699                     Historical fiction at its best       5   \n",
       "2350448  Stunning Showcase of the Poster Art of Classic...      10   \n",
       "344537             Fascinating, stimulating and fun tale..       5   \n",
       "2794916                                This was amazing!!!       3   \n",
       "...                                                    ...     ...   \n",
       "275589   This illustrated edition is a very beautiful b...     242   \n",
       "872855   Milan Kundera is a Czechoslavakian writer who ...     283   \n",
       "1965406  I read this book when I was in high school whi...      85   \n",
       "2181893  This is another book that I can hardly wait to...      27   \n",
       "2515068  There is nothing magic or secret about southwe...     143   \n",
       "\n",
       "         sentiment_score  \n",
       "739331               1.0  \n",
       "1271699              1.0  \n",
       "2350448              1.0  \n",
       "344537               1.0  \n",
       "2794916              1.0  \n",
       "...                  ...  \n",
       "275589               1.0  \n",
       "872855               1.0  \n",
       "1965406              1.0  \n",
       "2181893              1.0  \n",
       "2515068              1.0  \n",
       "\n",
       "[2881 rows x 3 columns]"
      ]
     },
     "execution_count": 89,
     "metadata": {},
     "output_type": "execute_result"
    }
   ],
   "source": [
    "books_sub_df.drop(\"Title\", axis=1, inplace=True)\n",
    "books_sub_df"
   ]
  },
  {
   "cell_type": "code",
   "execution_count": 90,
   "metadata": {},
   "outputs": [
    {
     "data": {
      "text/plain": [
       "<AxesSubplot:ylabel='Density'>"
      ]
     },
     "execution_count": 90,
     "metadata": {},
     "output_type": "execute_result"
    },
    {
     "data": {
      "image/png": "[encoded data removed]",
      "text/plain": [
       "<Figure size 640x480 with 1 Axes>"
      ]
     },
     "metadata": {},
     "output_type": "display_data"
    }
   ],
   "source": [
    "books_sub_df[\"sentiment_score\"].plot(kind=\"density\", xlim=(0,1))"
   ]
  },
  {
   "cell_type": "code",
   "execution_count": 91,
   "metadata": {},
   "outputs": [],
   "source": [
    "outpath = \"proccessed_book_reviews.json\"\n",
    "books_sub_df[[\"review\", \"sentiment_score\"]].to_json(outpath, orient=\"records\")"
   ]
  },
  {
   "cell_type": "code",
   "execution_count": 92,
   "metadata": {},
   "outputs": [
    {
     "data": {
      "image/png": "[encoded data removed]",
      "text/plain": [
       "<Figure size 640x480 with 1 Axes>"
      ]
     },
     "metadata": {},
     "output_type": "display_data"
    },
    {
     "data": {
      "text/plain": [
       "<AxesSubplot:xlabel='Samples', ylabel='Counts'>"
      ]
     },
     "execution_count": 92,
     "metadata": {},
     "output_type": "execute_result"
    }
   ],
   "source": [
    "tokens = books_sub_df[\"review\"].apply(word_tokenize).to_list()\n",
    "tokens = filter(flatten(tokens))\n",
    "dist = FreqDist(tokens)\n",
    "common = FreqDist(dict(dist.most_common(n=40)))\n",
    "common.plot()"
   ]
  },
  {
   "cell_type": "code",
   "execution_count": null,
   "metadata": {},
   "outputs": [],
   "source": [
    "pd.concat([books_sub_df, arc_df, cross_df])"
   ]
  }
 ],
 "metadata": {
  "kernelspec": {
   "display_name": "Python 3",
   "language": "python",
   "name": "python3"
  },
  "language_info": {
   "codemirror_mode": {
    "name": "ipython",
    "version": 3
   },
   "file_extension": ".py",
   "mimetype": "text/x-python",
   "name": "python",
   "nbconvert_exporter": "python",
   "pygments_lexer": "ipython3",
   "version": "3.8.3"
  },
  "orig_nbformat": 4
 },
 "nbformat": 4,
 "nbformat_minor": 2
}
